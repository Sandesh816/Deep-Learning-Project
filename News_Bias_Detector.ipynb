{
  "nbformat": 4,
  "nbformat_minor": 0,
  "metadata": {
    "colab": {
      "provenance": [],
      "gpuType": "T4",
      "include_colab_link": true
    },
    "kernelspec": {
      "name": "python3",
      "display_name": "Python 3"
    },
    "language_info": {
      "name": "python"
    },
    "accelerator": "GPU",
    "widgets": {
      "application/vnd.jupyter.widget-state+json": {
        "d3f382138dd9477194d5d26252ff411e": {
          "model_module": "@jupyter-widgets/controls",
          "model_name": "HBoxModel",
          "model_module_version": "1.5.0",
          "state": {
            "_dom_classes": [],
            "_model_module": "@jupyter-widgets/controls",
            "_model_module_version": "1.5.0",
            "_model_name": "HBoxModel",
            "_view_count": null,
            "_view_module": "@jupyter-widgets/controls",
            "_view_module_version": "1.5.0",
            "_view_name": "HBoxView",
            "box_style": "",
            "children": [
              "IPY_MODEL_617289e19eaf4cc183205a941f6d9ab7",
              "IPY_MODEL_e6b13a6c5ee040afa11cc215e9d7a334",
              "IPY_MODEL_148cd48e97ab497a88e6afda49cf9c3f"
            ],
            "layout": "IPY_MODEL_ccd7b55657f94d788ab709aa545623aa"
          }
        },
        "617289e19eaf4cc183205a941f6d9ab7": {
          "model_module": "@jupyter-widgets/controls",
          "model_name": "HTMLModel",
          "model_module_version": "1.5.0",
          "state": {
            "_dom_classes": [],
            "_model_module": "@jupyter-widgets/controls",
            "_model_module_version": "1.5.0",
            "_model_name": "HTMLModel",
            "_view_count": null,
            "_view_module": "@jupyter-widgets/controls",
            "_view_module_version": "1.5.0",
            "_view_name": "HTMLView",
            "description": "",
            "description_tooltip": null,
            "layout": "IPY_MODEL_dc97c3ea44a84cdf9929d0e7112ea7f1",
            "placeholder": "​",
            "style": "IPY_MODEL_6fada8aad907474489e76c0d0d38902c",
            "value": "config.json: 100%"
          }
        },
        "e6b13a6c5ee040afa11cc215e9d7a334": {
          "model_module": "@jupyter-widgets/controls",
          "model_name": "FloatProgressModel",
          "model_module_version": "1.5.0",
          "state": {
            "_dom_classes": [],
            "_model_module": "@jupyter-widgets/controls",
            "_model_module_version": "1.5.0",
            "_model_name": "FloatProgressModel",
            "_view_count": null,
            "_view_module": "@jupyter-widgets/controls",
            "_view_module_version": "1.5.0",
            "_view_name": "ProgressView",
            "bar_style": "success",
            "description": "",
            "description_tooltip": null,
            "layout": "IPY_MODEL_e894c6be661449029ce08a458717b03a",
            "max": 570,
            "min": 0,
            "orientation": "horizontal",
            "style": "IPY_MODEL_43d3f2e851714043b508b200c3512bf5",
            "value": 570
          }
        },
        "148cd48e97ab497a88e6afda49cf9c3f": {
          "model_module": "@jupyter-widgets/controls",
          "model_name": "HTMLModel",
          "model_module_version": "1.5.0",
          "state": {
            "_dom_classes": [],
            "_model_module": "@jupyter-widgets/controls",
            "_model_module_version": "1.5.0",
            "_model_name": "HTMLModel",
            "_view_count": null,
            "_view_module": "@jupyter-widgets/controls",
            "_view_module_version": "1.5.0",
            "_view_name": "HTMLView",
            "description": "",
            "description_tooltip": null,
            "layout": "IPY_MODEL_0d8eef25569949b593983d2c8c632011",
            "placeholder": "​",
            "style": "IPY_MODEL_be8a31ffc5b34e948365b4e9d2cf5a51",
            "value": " 570/570 [00:00&lt;00:00, 55.4kB/s]"
          }
        },
        "ccd7b55657f94d788ab709aa545623aa": {
          "model_module": "@jupyter-widgets/base",
          "model_name": "LayoutModel",
          "model_module_version": "1.2.0",
          "state": {
            "_model_module": "@jupyter-widgets/base",
            "_model_module_version": "1.2.0",
            "_model_name": "LayoutModel",
            "_view_count": null,
            "_view_module": "@jupyter-widgets/base",
            "_view_module_version": "1.2.0",
            "_view_name": "LayoutView",
            "align_content": null,
            "align_items": null,
            "align_self": null,
            "border": null,
            "bottom": null,
            "display": null,
            "flex": null,
            "flex_flow": null,
            "grid_area": null,
            "grid_auto_columns": null,
            "grid_auto_flow": null,
            "grid_auto_rows": null,
            "grid_column": null,
            "grid_gap": null,
            "grid_row": null,
            "grid_template_areas": null,
            "grid_template_columns": null,
            "grid_template_rows": null,
            "height": null,
            "justify_content": null,
            "justify_items": null,
            "left": null,
            "margin": null,
            "max_height": null,
            "max_width": null,
            "min_height": null,
            "min_width": null,
            "object_fit": null,
            "object_position": null,
            "order": null,
            "overflow": null,
            "overflow_x": null,
            "overflow_y": null,
            "padding": null,
            "right": null,
            "top": null,
            "visibility": null,
            "width": null
          }
        },
        "dc97c3ea44a84cdf9929d0e7112ea7f1": {
          "model_module": "@jupyter-widgets/base",
          "model_name": "LayoutModel",
          "model_module_version": "1.2.0",
          "state": {
            "_model_module": "@jupyter-widgets/base",
            "_model_module_version": "1.2.0",
            "_model_name": "LayoutModel",
            "_view_count": null,
            "_view_module": "@jupyter-widgets/base",
            "_view_module_version": "1.2.0",
            "_view_name": "LayoutView",
            "align_content": null,
            "align_items": null,
            "align_self": null,
            "border": null,
            "bottom": null,
            "display": null,
            "flex": null,
            "flex_flow": null,
            "grid_area": null,
            "grid_auto_columns": null,
            "grid_auto_flow": null,
            "grid_auto_rows": null,
            "grid_column": null,
            "grid_gap": null,
            "grid_row": null,
            "grid_template_areas": null,
            "grid_template_columns": null,
            "grid_template_rows": null,
            "height": null,
            "justify_content": null,
            "justify_items": null,
            "left": null,
            "margin": null,
            "max_height": null,
            "max_width": null,
            "min_height": null,
            "min_width": null,
            "object_fit": null,
            "object_position": null,
            "order": null,
            "overflow": null,
            "overflow_x": null,
            "overflow_y": null,
            "padding": null,
            "right": null,
            "top": null,
            "visibility": null,
            "width": null
          }
        },
        "6fada8aad907474489e76c0d0d38902c": {
          "model_module": "@jupyter-widgets/controls",
          "model_name": "DescriptionStyleModel",
          "model_module_version": "1.5.0",
          "state": {
            "_model_module": "@jupyter-widgets/controls",
            "_model_module_version": "1.5.0",
            "_model_name": "DescriptionStyleModel",
            "_view_count": null,
            "_view_module": "@jupyter-widgets/base",
            "_view_module_version": "1.2.0",
            "_view_name": "StyleView",
            "description_width": ""
          }
        },
        "e894c6be661449029ce08a458717b03a": {
          "model_module": "@jupyter-widgets/base",
          "model_name": "LayoutModel",
          "model_module_version": "1.2.0",
          "state": {
            "_model_module": "@jupyter-widgets/base",
            "_model_module_version": "1.2.0",
            "_model_name": "LayoutModel",
            "_view_count": null,
            "_view_module": "@jupyter-widgets/base",
            "_view_module_version": "1.2.0",
            "_view_name": "LayoutView",
            "align_content": null,
            "align_items": null,
            "align_self": null,
            "border": null,
            "bottom": null,
            "display": null,
            "flex": null,
            "flex_flow": null,
            "grid_area": null,
            "grid_auto_columns": null,
            "grid_auto_flow": null,
            "grid_auto_rows": null,
            "grid_column": null,
            "grid_gap": null,
            "grid_row": null,
            "grid_template_areas": null,
            "grid_template_columns": null,
            "grid_template_rows": null,
            "height": null,
            "justify_content": null,
            "justify_items": null,
            "left": null,
            "margin": null,
            "max_height": null,
            "max_width": null,
            "min_height": null,
            "min_width": null,
            "object_fit": null,
            "object_position": null,
            "order": null,
            "overflow": null,
            "overflow_x": null,
            "overflow_y": null,
            "padding": null,
            "right": null,
            "top": null,
            "visibility": null,
            "width": null
          }
        },
        "43d3f2e851714043b508b200c3512bf5": {
          "model_module": "@jupyter-widgets/controls",
          "model_name": "ProgressStyleModel",
          "model_module_version": "1.5.0",
          "state": {
            "_model_module": "@jupyter-widgets/controls",
            "_model_module_version": "1.5.0",
            "_model_name": "ProgressStyleModel",
            "_view_count": null,
            "_view_module": "@jupyter-widgets/base",
            "_view_module_version": "1.2.0",
            "_view_name": "StyleView",
            "bar_color": null,
            "description_width": ""
          }
        },
        "0d8eef25569949b593983d2c8c632011": {
          "model_module": "@jupyter-widgets/base",
          "model_name": "LayoutModel",
          "model_module_version": "1.2.0",
          "state": {
            "_model_module": "@jupyter-widgets/base",
            "_model_module_version": "1.2.0",
            "_model_name": "LayoutModel",
            "_view_count": null,
            "_view_module": "@jupyter-widgets/base",
            "_view_module_version": "1.2.0",
            "_view_name": "LayoutView",
            "align_content": null,
            "align_items": null,
            "align_self": null,
            "border": null,
            "bottom": null,
            "display": null,
            "flex": null,
            "flex_flow": null,
            "grid_area": null,
            "grid_auto_columns": null,
            "grid_auto_flow": null,
            "grid_auto_rows": null,
            "grid_column": null,
            "grid_gap": null,
            "grid_row": null,
            "grid_template_areas": null,
            "grid_template_columns": null,
            "grid_template_rows": null,
            "height": null,
            "justify_content": null,
            "justify_items": null,
            "left": null,
            "margin": null,
            "max_height": null,
            "max_width": null,
            "min_height": null,
            "min_width": null,
            "object_fit": null,
            "object_position": null,
            "order": null,
            "overflow": null,
            "overflow_x": null,
            "overflow_y": null,
            "padding": null,
            "right": null,
            "top": null,
            "visibility": null,
            "width": null
          }
        },
        "be8a31ffc5b34e948365b4e9d2cf5a51": {
          "model_module": "@jupyter-widgets/controls",
          "model_name": "DescriptionStyleModel",
          "model_module_version": "1.5.0",
          "state": {
            "_model_module": "@jupyter-widgets/controls",
            "_model_module_version": "1.5.0",
            "_model_name": "DescriptionStyleModel",
            "_view_count": null,
            "_view_module": "@jupyter-widgets/base",
            "_view_module_version": "1.2.0",
            "_view_name": "StyleView",
            "description_width": ""
          }
        },
        "7767f6d618084a8fa53926efa9064ed4": {
          "model_module": "@jupyter-widgets/controls",
          "model_name": "HBoxModel",
          "model_module_version": "1.5.0",
          "state": {
            "_dom_classes": [],
            "_model_module": "@jupyter-widgets/controls",
            "_model_module_version": "1.5.0",
            "_model_name": "HBoxModel",
            "_view_count": null,
            "_view_module": "@jupyter-widgets/controls",
            "_view_module_version": "1.5.0",
            "_view_name": "HBoxView",
            "box_style": "",
            "children": [
              "IPY_MODEL_7b892722cb804a94be35a673795bfd25",
              "IPY_MODEL_e71209f5b6f34a1ea371f2bc5f6de439",
              "IPY_MODEL_9ef75df276c1464a9229bb337f0e6285"
            ],
            "layout": "IPY_MODEL_6c1d0f4a78354a0492aeb507fd8dee2d"
          }
        },
        "7b892722cb804a94be35a673795bfd25": {
          "model_module": "@jupyter-widgets/controls",
          "model_name": "HTMLModel",
          "model_module_version": "1.5.0",
          "state": {
            "_dom_classes": [],
            "_model_module": "@jupyter-widgets/controls",
            "_model_module_version": "1.5.0",
            "_model_name": "HTMLModel",
            "_view_count": null,
            "_view_module": "@jupyter-widgets/controls",
            "_view_module_version": "1.5.0",
            "_view_name": "HTMLView",
            "description": "",
            "description_tooltip": null,
            "layout": "IPY_MODEL_6bdd1c8efa434e49b675afe7c7203633",
            "placeholder": "​",
            "style": "IPY_MODEL_f4591a2a4f22409aa7853fc4f70123f0",
            "value": "model.safetensors: 100%"
          }
        },
        "e71209f5b6f34a1ea371f2bc5f6de439": {
          "model_module": "@jupyter-widgets/controls",
          "model_name": "FloatProgressModel",
          "model_module_version": "1.5.0",
          "state": {
            "_dom_classes": [],
            "_model_module": "@jupyter-widgets/controls",
            "_model_module_version": "1.5.0",
            "_model_name": "FloatProgressModel",
            "_view_count": null,
            "_view_module": "@jupyter-widgets/controls",
            "_view_module_version": "1.5.0",
            "_view_name": "ProgressView",
            "bar_style": "success",
            "description": "",
            "description_tooltip": null,
            "layout": "IPY_MODEL_0fe0aa0f9e694adabc226c5f804a5743",
            "max": 440449768,
            "min": 0,
            "orientation": "horizontal",
            "style": "IPY_MODEL_41bc927b0f5a42e9a2b23dc5d53446e7",
            "value": 440449768
          }
        },
        "9ef75df276c1464a9229bb337f0e6285": {
          "model_module": "@jupyter-widgets/controls",
          "model_name": "HTMLModel",
          "model_module_version": "1.5.0",
          "state": {
            "_dom_classes": [],
            "_model_module": "@jupyter-widgets/controls",
            "_model_module_version": "1.5.0",
            "_model_name": "HTMLModel",
            "_view_count": null,
            "_view_module": "@jupyter-widgets/controls",
            "_view_module_version": "1.5.0",
            "_view_name": "HTMLView",
            "description": "",
            "description_tooltip": null,
            "layout": "IPY_MODEL_63b09915102a40f8815124c3ec736910",
            "placeholder": "​",
            "style": "IPY_MODEL_493a2dfdbf16439da34f4205f6132584",
            "value": " 440M/440M [00:05&lt;00:00, 104MB/s]"
          }
        },
        "6c1d0f4a78354a0492aeb507fd8dee2d": {
          "model_module": "@jupyter-widgets/base",
          "model_name": "LayoutModel",
          "model_module_version": "1.2.0",
          "state": {
            "_model_module": "@jupyter-widgets/base",
            "_model_module_version": "1.2.0",
            "_model_name": "LayoutModel",
            "_view_count": null,
            "_view_module": "@jupyter-widgets/base",
            "_view_module_version": "1.2.0",
            "_view_name": "LayoutView",
            "align_content": null,
            "align_items": null,
            "align_self": null,
            "border": null,
            "bottom": null,
            "display": null,
            "flex": null,
            "flex_flow": null,
            "grid_area": null,
            "grid_auto_columns": null,
            "grid_auto_flow": null,
            "grid_auto_rows": null,
            "grid_column": null,
            "grid_gap": null,
            "grid_row": null,
            "grid_template_areas": null,
            "grid_template_columns": null,
            "grid_template_rows": null,
            "height": null,
            "justify_content": null,
            "justify_items": null,
            "left": null,
            "margin": null,
            "max_height": null,
            "max_width": null,
            "min_height": null,
            "min_width": null,
            "object_fit": null,
            "object_position": null,
            "order": null,
            "overflow": null,
            "overflow_x": null,
            "overflow_y": null,
            "padding": null,
            "right": null,
            "top": null,
            "visibility": null,
            "width": null
          }
        },
        "6bdd1c8efa434e49b675afe7c7203633": {
          "model_module": "@jupyter-widgets/base",
          "model_name": "LayoutModel",
          "model_module_version": "1.2.0",
          "state": {
            "_model_module": "@jupyter-widgets/base",
            "_model_module_version": "1.2.0",
            "_model_name": "LayoutModel",
            "_view_count": null,
            "_view_module": "@jupyter-widgets/base",
            "_view_module_version": "1.2.0",
            "_view_name": "LayoutView",
            "align_content": null,
            "align_items": null,
            "align_self": null,
            "border": null,
            "bottom": null,
            "display": null,
            "flex": null,
            "flex_flow": null,
            "grid_area": null,
            "grid_auto_columns": null,
            "grid_auto_flow": null,
            "grid_auto_rows": null,
            "grid_column": null,
            "grid_gap": null,
            "grid_row": null,
            "grid_template_areas": null,
            "grid_template_columns": null,
            "grid_template_rows": null,
            "height": null,
            "justify_content": null,
            "justify_items": null,
            "left": null,
            "margin": null,
            "max_height": null,
            "max_width": null,
            "min_height": null,
            "min_width": null,
            "object_fit": null,
            "object_position": null,
            "order": null,
            "overflow": null,
            "overflow_x": null,
            "overflow_y": null,
            "padding": null,
            "right": null,
            "top": null,
            "visibility": null,
            "width": null
          }
        },
        "f4591a2a4f22409aa7853fc4f70123f0": {
          "model_module": "@jupyter-widgets/controls",
          "model_name": "DescriptionStyleModel",
          "model_module_version": "1.5.0",
          "state": {
            "_model_module": "@jupyter-widgets/controls",
            "_model_module_version": "1.5.0",
            "_model_name": "DescriptionStyleModel",
            "_view_count": null,
            "_view_module": "@jupyter-widgets/base",
            "_view_module_version": "1.2.0",
            "_view_name": "StyleView",
            "description_width": ""
          }
        },
        "0fe0aa0f9e694adabc226c5f804a5743": {
          "model_module": "@jupyter-widgets/base",
          "model_name": "LayoutModel",
          "model_module_version": "1.2.0",
          "state": {
            "_model_module": "@jupyter-widgets/base",
            "_model_module_version": "1.2.0",
            "_model_name": "LayoutModel",
            "_view_count": null,
            "_view_module": "@jupyter-widgets/base",
            "_view_module_version": "1.2.0",
            "_view_name": "LayoutView",
            "align_content": null,
            "align_items": null,
            "align_self": null,
            "border": null,
            "bottom": null,
            "display": null,
            "flex": null,
            "flex_flow": null,
            "grid_area": null,
            "grid_auto_columns": null,
            "grid_auto_flow": null,
            "grid_auto_rows": null,
            "grid_column": null,
            "grid_gap": null,
            "grid_row": null,
            "grid_template_areas": null,
            "grid_template_columns": null,
            "grid_template_rows": null,
            "height": null,
            "justify_content": null,
            "justify_items": null,
            "left": null,
            "margin": null,
            "max_height": null,
            "max_width": null,
            "min_height": null,
            "min_width": null,
            "object_fit": null,
            "object_position": null,
            "order": null,
            "overflow": null,
            "overflow_x": null,
            "overflow_y": null,
            "padding": null,
            "right": null,
            "top": null,
            "visibility": null,
            "width": null
          }
        },
        "41bc927b0f5a42e9a2b23dc5d53446e7": {
          "model_module": "@jupyter-widgets/controls",
          "model_name": "ProgressStyleModel",
          "model_module_version": "1.5.0",
          "state": {
            "_model_module": "@jupyter-widgets/controls",
            "_model_module_version": "1.5.0",
            "_model_name": "ProgressStyleModel",
            "_view_count": null,
            "_view_module": "@jupyter-widgets/base",
            "_view_module_version": "1.2.0",
            "_view_name": "StyleView",
            "bar_color": null,
            "description_width": ""
          }
        },
        "63b09915102a40f8815124c3ec736910": {
          "model_module": "@jupyter-widgets/base",
          "model_name": "LayoutModel",
          "model_module_version": "1.2.0",
          "state": {
            "_model_module": "@jupyter-widgets/base",
            "_model_module_version": "1.2.0",
            "_model_name": "LayoutModel",
            "_view_count": null,
            "_view_module": "@jupyter-widgets/base",
            "_view_module_version": "1.2.0",
            "_view_name": "LayoutView",
            "align_content": null,
            "align_items": null,
            "align_self": null,
            "border": null,
            "bottom": null,
            "display": null,
            "flex": null,
            "flex_flow": null,
            "grid_area": null,
            "grid_auto_columns": null,
            "grid_auto_flow": null,
            "grid_auto_rows": null,
            "grid_column": null,
            "grid_gap": null,
            "grid_row": null,
            "grid_template_areas": null,
            "grid_template_columns": null,
            "grid_template_rows": null,
            "height": null,
            "justify_content": null,
            "justify_items": null,
            "left": null,
            "margin": null,
            "max_height": null,
            "max_width": null,
            "min_height": null,
            "min_width": null,
            "object_fit": null,
            "object_position": null,
            "order": null,
            "overflow": null,
            "overflow_x": null,
            "overflow_y": null,
            "padding": null,
            "right": null,
            "top": null,
            "visibility": null,
            "width": null
          }
        },
        "493a2dfdbf16439da34f4205f6132584": {
          "model_module": "@jupyter-widgets/controls",
          "model_name": "DescriptionStyleModel",
          "model_module_version": "1.5.0",
          "state": {
            "_model_module": "@jupyter-widgets/controls",
            "_model_module_version": "1.5.0",
            "_model_name": "DescriptionStyleModel",
            "_view_count": null,
            "_view_module": "@jupyter-widgets/base",
            "_view_module_version": "1.2.0",
            "_view_name": "StyleView",
            "description_width": ""
          }
        },
        "3cf7f1841b0a4477bd419cd7a153cae1": {
          "model_module": "@jupyter-widgets/controls",
          "model_name": "HBoxModel",
          "model_module_version": "1.5.0",
          "state": {
            "_dom_classes": [],
            "_model_module": "@jupyter-widgets/controls",
            "_model_module_version": "1.5.0",
            "_model_name": "HBoxModel",
            "_view_count": null,
            "_view_module": "@jupyter-widgets/controls",
            "_view_module_version": "1.5.0",
            "_view_name": "HBoxView",
            "box_style": "",
            "children": [
              "IPY_MODEL_5ae7a7f3170b4a0c93eef165cba222f4",
              "IPY_MODEL_f7cbaba1313249c8a331701bd7284581",
              "IPY_MODEL_d5ec2e9f11e647ec962ef1b81e13caa5"
            ],
            "layout": "IPY_MODEL_529cce152a0345889ea01dee3d5d096e"
          }
        },
        "5ae7a7f3170b4a0c93eef165cba222f4": {
          "model_module": "@jupyter-widgets/controls",
          "model_name": "HTMLModel",
          "model_module_version": "1.5.0",
          "state": {
            "_dom_classes": [],
            "_model_module": "@jupyter-widgets/controls",
            "_model_module_version": "1.5.0",
            "_model_name": "HTMLModel",
            "_view_count": null,
            "_view_module": "@jupyter-widgets/controls",
            "_view_module_version": "1.5.0",
            "_view_name": "HTMLView",
            "description": "",
            "description_tooltip": null,
            "layout": "IPY_MODEL_4df2b0c76ab94631a13dbd272d2064e8",
            "placeholder": "​",
            "style": "IPY_MODEL_1016fdc9436945e3899cd6be48aae470",
            "value": "tokenizer_config.json: 100%"
          }
        },
        "f7cbaba1313249c8a331701bd7284581": {
          "model_module": "@jupyter-widgets/controls",
          "model_name": "FloatProgressModel",
          "model_module_version": "1.5.0",
          "state": {
            "_dom_classes": [],
            "_model_module": "@jupyter-widgets/controls",
            "_model_module_version": "1.5.0",
            "_model_name": "FloatProgressModel",
            "_view_count": null,
            "_view_module": "@jupyter-widgets/controls",
            "_view_module_version": "1.5.0",
            "_view_name": "ProgressView",
            "bar_style": "success",
            "description": "",
            "description_tooltip": null,
            "layout": "IPY_MODEL_ae8dc852dbf246c7ba882ce283787421",
            "max": 48,
            "min": 0,
            "orientation": "horizontal",
            "style": "IPY_MODEL_077dca12ce454433848a94f20e115699",
            "value": 48
          }
        },
        "d5ec2e9f11e647ec962ef1b81e13caa5": {
          "model_module": "@jupyter-widgets/controls",
          "model_name": "HTMLModel",
          "model_module_version": "1.5.0",
          "state": {
            "_dom_classes": [],
            "_model_module": "@jupyter-widgets/controls",
            "_model_module_version": "1.5.0",
            "_model_name": "HTMLModel",
            "_view_count": null,
            "_view_module": "@jupyter-widgets/controls",
            "_view_module_version": "1.5.0",
            "_view_name": "HTMLView",
            "description": "",
            "description_tooltip": null,
            "layout": "IPY_MODEL_72391a32915447fea25a5a923c364fd7",
            "placeholder": "​",
            "style": "IPY_MODEL_6d75681e305b4325a2fc8b211cd1a1de",
            "value": " 48.0/48.0 [00:00&lt;00:00, 5.49kB/s]"
          }
        },
        "529cce152a0345889ea01dee3d5d096e": {
          "model_module": "@jupyter-widgets/base",
          "model_name": "LayoutModel",
          "model_module_version": "1.2.0",
          "state": {
            "_model_module": "@jupyter-widgets/base",
            "_model_module_version": "1.2.0",
            "_model_name": "LayoutModel",
            "_view_count": null,
            "_view_module": "@jupyter-widgets/base",
            "_view_module_version": "1.2.0",
            "_view_name": "LayoutView",
            "align_content": null,
            "align_items": null,
            "align_self": null,
            "border": null,
            "bottom": null,
            "display": null,
            "flex": null,
            "flex_flow": null,
            "grid_area": null,
            "grid_auto_columns": null,
            "grid_auto_flow": null,
            "grid_auto_rows": null,
            "grid_column": null,
            "grid_gap": null,
            "grid_row": null,
            "grid_template_areas": null,
            "grid_template_columns": null,
            "grid_template_rows": null,
            "height": null,
            "justify_content": null,
            "justify_items": null,
            "left": null,
            "margin": null,
            "max_height": null,
            "max_width": null,
            "min_height": null,
            "min_width": null,
            "object_fit": null,
            "object_position": null,
            "order": null,
            "overflow": null,
            "overflow_x": null,
            "overflow_y": null,
            "padding": null,
            "right": null,
            "top": null,
            "visibility": null,
            "width": null
          }
        },
        "4df2b0c76ab94631a13dbd272d2064e8": {
          "model_module": "@jupyter-widgets/base",
          "model_name": "LayoutModel",
          "model_module_version": "1.2.0",
          "state": {
            "_model_module": "@jupyter-widgets/base",
            "_model_module_version": "1.2.0",
            "_model_name": "LayoutModel",
            "_view_count": null,
            "_view_module": "@jupyter-widgets/base",
            "_view_module_version": "1.2.0",
            "_view_name": "LayoutView",
            "align_content": null,
            "align_items": null,
            "align_self": null,
            "border": null,
            "bottom": null,
            "display": null,
            "flex": null,
            "flex_flow": null,
            "grid_area": null,
            "grid_auto_columns": null,
            "grid_auto_flow": null,
            "grid_auto_rows": null,
            "grid_column": null,
            "grid_gap": null,
            "grid_row": null,
            "grid_template_areas": null,
            "grid_template_columns": null,
            "grid_template_rows": null,
            "height": null,
            "justify_content": null,
            "justify_items": null,
            "left": null,
            "margin": null,
            "max_height": null,
            "max_width": null,
            "min_height": null,
            "min_width": null,
            "object_fit": null,
            "object_position": null,
            "order": null,
            "overflow": null,
            "overflow_x": null,
            "overflow_y": null,
            "padding": null,
            "right": null,
            "top": null,
            "visibility": null,
            "width": null
          }
        },
        "1016fdc9436945e3899cd6be48aae470": {
          "model_module": "@jupyter-widgets/controls",
          "model_name": "DescriptionStyleModel",
          "model_module_version": "1.5.0",
          "state": {
            "_model_module": "@jupyter-widgets/controls",
            "_model_module_version": "1.5.0",
            "_model_name": "DescriptionStyleModel",
            "_view_count": null,
            "_view_module": "@jupyter-widgets/base",
            "_view_module_version": "1.2.0",
            "_view_name": "StyleView",
            "description_width": ""
          }
        },
        "ae8dc852dbf246c7ba882ce283787421": {
          "model_module": "@jupyter-widgets/base",
          "model_name": "LayoutModel",
          "model_module_version": "1.2.0",
          "state": {
            "_model_module": "@jupyter-widgets/base",
            "_model_module_version": "1.2.0",
            "_model_name": "LayoutModel",
            "_view_count": null,
            "_view_module": "@jupyter-widgets/base",
            "_view_module_version": "1.2.0",
            "_view_name": "LayoutView",
            "align_content": null,
            "align_items": null,
            "align_self": null,
            "border": null,
            "bottom": null,
            "display": null,
            "flex": null,
            "flex_flow": null,
            "grid_area": null,
            "grid_auto_columns": null,
            "grid_auto_flow": null,
            "grid_auto_rows": null,
            "grid_column": null,
            "grid_gap": null,
            "grid_row": null,
            "grid_template_areas": null,
            "grid_template_columns": null,
            "grid_template_rows": null,
            "height": null,
            "justify_content": null,
            "justify_items": null,
            "left": null,
            "margin": null,
            "max_height": null,
            "max_width": null,
            "min_height": null,
            "min_width": null,
            "object_fit": null,
            "object_position": null,
            "order": null,
            "overflow": null,
            "overflow_x": null,
            "overflow_y": null,
            "padding": null,
            "right": null,
            "top": null,
            "visibility": null,
            "width": null
          }
        },
        "077dca12ce454433848a94f20e115699": {
          "model_module": "@jupyter-widgets/controls",
          "model_name": "ProgressStyleModel",
          "model_module_version": "1.5.0",
          "state": {
            "_model_module": "@jupyter-widgets/controls",
            "_model_module_version": "1.5.0",
            "_model_name": "ProgressStyleModel",
            "_view_count": null,
            "_view_module": "@jupyter-widgets/base",
            "_view_module_version": "1.2.0",
            "_view_name": "StyleView",
            "bar_color": null,
            "description_width": ""
          }
        },
        "72391a32915447fea25a5a923c364fd7": {
          "model_module": "@jupyter-widgets/base",
          "model_name": "LayoutModel",
          "model_module_version": "1.2.0",
          "state": {
            "_model_module": "@jupyter-widgets/base",
            "_model_module_version": "1.2.0",
            "_model_name": "LayoutModel",
            "_view_count": null,
            "_view_module": "@jupyter-widgets/base",
            "_view_module_version": "1.2.0",
            "_view_name": "LayoutView",
            "align_content": null,
            "align_items": null,
            "align_self": null,
            "border": null,
            "bottom": null,
            "display": null,
            "flex": null,
            "flex_flow": null,
            "grid_area": null,
            "grid_auto_columns": null,
            "grid_auto_flow": null,
            "grid_auto_rows": null,
            "grid_column": null,
            "grid_gap": null,
            "grid_row": null,
            "grid_template_areas": null,
            "grid_template_columns": null,
            "grid_template_rows": null,
            "height": null,
            "justify_content": null,
            "justify_items": null,
            "left": null,
            "margin": null,
            "max_height": null,
            "max_width": null,
            "min_height": null,
            "min_width": null,
            "object_fit": null,
            "object_position": null,
            "order": null,
            "overflow": null,
            "overflow_x": null,
            "overflow_y": null,
            "padding": null,
            "right": null,
            "top": null,
            "visibility": null,
            "width": null
          }
        },
        "6d75681e305b4325a2fc8b211cd1a1de": {
          "model_module": "@jupyter-widgets/controls",
          "model_name": "DescriptionStyleModel",
          "model_module_version": "1.5.0",
          "state": {
            "_model_module": "@jupyter-widgets/controls",
            "_model_module_version": "1.5.0",
            "_model_name": "DescriptionStyleModel",
            "_view_count": null,
            "_view_module": "@jupyter-widgets/base",
            "_view_module_version": "1.2.0",
            "_view_name": "StyleView",
            "description_width": ""
          }
        },
        "51b073fa99ea4d8896858714895d1a53": {
          "model_module": "@jupyter-widgets/controls",
          "model_name": "HBoxModel",
          "model_module_version": "1.5.0",
          "state": {
            "_dom_classes": [],
            "_model_module": "@jupyter-widgets/controls",
            "_model_module_version": "1.5.0",
            "_model_name": "HBoxModel",
            "_view_count": null,
            "_view_module": "@jupyter-widgets/controls",
            "_view_module_version": "1.5.0",
            "_view_name": "HBoxView",
            "box_style": "",
            "children": [
              "IPY_MODEL_014a9be2b611405c8946c5cabf186a54",
              "IPY_MODEL_544e77af266944c4bf01c65e4d51d54e",
              "IPY_MODEL_669a71177131497eb580302b19182318"
            ],
            "layout": "IPY_MODEL_72d4c06b3a834e17acb45d5a39d3ccb3"
          }
        },
        "014a9be2b611405c8946c5cabf186a54": {
          "model_module": "@jupyter-widgets/controls",
          "model_name": "HTMLModel",
          "model_module_version": "1.5.0",
          "state": {
            "_dom_classes": [],
            "_model_module": "@jupyter-widgets/controls",
            "_model_module_version": "1.5.0",
            "_model_name": "HTMLModel",
            "_view_count": null,
            "_view_module": "@jupyter-widgets/controls",
            "_view_module_version": "1.5.0",
            "_view_name": "HTMLView",
            "description": "",
            "description_tooltip": null,
            "layout": "IPY_MODEL_a7c00ad28d7c402fa78116a543bf4d03",
            "placeholder": "​",
            "style": "IPY_MODEL_664081f8eb864312b166ec533ce65284",
            "value": "vocab.txt: 100%"
          }
        },
        "544e77af266944c4bf01c65e4d51d54e": {
          "model_module": "@jupyter-widgets/controls",
          "model_name": "FloatProgressModel",
          "model_module_version": "1.5.0",
          "state": {
            "_dom_classes": [],
            "_model_module": "@jupyter-widgets/controls",
            "_model_module_version": "1.5.0",
            "_model_name": "FloatProgressModel",
            "_view_count": null,
            "_view_module": "@jupyter-widgets/controls",
            "_view_module_version": "1.5.0",
            "_view_name": "ProgressView",
            "bar_style": "success",
            "description": "",
            "description_tooltip": null,
            "layout": "IPY_MODEL_c481c1ff42ba4644a4254e5c0f00b947",
            "max": 231508,
            "min": 0,
            "orientation": "horizontal",
            "style": "IPY_MODEL_8056f3f481dd48868b851a4e129badcc",
            "value": 231508
          }
        },
        "669a71177131497eb580302b19182318": {
          "model_module": "@jupyter-widgets/controls",
          "model_name": "HTMLModel",
          "model_module_version": "1.5.0",
          "state": {
            "_dom_classes": [],
            "_model_module": "@jupyter-widgets/controls",
            "_model_module_version": "1.5.0",
            "_model_name": "HTMLModel",
            "_view_count": null,
            "_view_module": "@jupyter-widgets/controls",
            "_view_module_version": "1.5.0",
            "_view_name": "HTMLView",
            "description": "",
            "description_tooltip": null,
            "layout": "IPY_MODEL_0aca84e9eb944bc6b91bc062315f120d",
            "placeholder": "​",
            "style": "IPY_MODEL_b651772a6bbc4c778fcf86560d73187f",
            "value": " 232k/232k [00:00&lt;00:00, 11.8MB/s]"
          }
        },
        "72d4c06b3a834e17acb45d5a39d3ccb3": {
          "model_module": "@jupyter-widgets/base",
          "model_name": "LayoutModel",
          "model_module_version": "1.2.0",
          "state": {
            "_model_module": "@jupyter-widgets/base",
            "_model_module_version": "1.2.0",
            "_model_name": "LayoutModel",
            "_view_count": null,
            "_view_module": "@jupyter-widgets/base",
            "_view_module_version": "1.2.0",
            "_view_name": "LayoutView",
            "align_content": null,
            "align_items": null,
            "align_self": null,
            "border": null,
            "bottom": null,
            "display": null,
            "flex": null,
            "flex_flow": null,
            "grid_area": null,
            "grid_auto_columns": null,
            "grid_auto_flow": null,
            "grid_auto_rows": null,
            "grid_column": null,
            "grid_gap": null,
            "grid_row": null,
            "grid_template_areas": null,
            "grid_template_columns": null,
            "grid_template_rows": null,
            "height": null,
            "justify_content": null,
            "justify_items": null,
            "left": null,
            "margin": null,
            "max_height": null,
            "max_width": null,
            "min_height": null,
            "min_width": null,
            "object_fit": null,
            "object_position": null,
            "order": null,
            "overflow": null,
            "overflow_x": null,
            "overflow_y": null,
            "padding": null,
            "right": null,
            "top": null,
            "visibility": null,
            "width": null
          }
        },
        "a7c00ad28d7c402fa78116a543bf4d03": {
          "model_module": "@jupyter-widgets/base",
          "model_name": "LayoutModel",
          "model_module_version": "1.2.0",
          "state": {
            "_model_module": "@jupyter-widgets/base",
            "_model_module_version": "1.2.0",
            "_model_name": "LayoutModel",
            "_view_count": null,
            "_view_module": "@jupyter-widgets/base",
            "_view_module_version": "1.2.0",
            "_view_name": "LayoutView",
            "align_content": null,
            "align_items": null,
            "align_self": null,
            "border": null,
            "bottom": null,
            "display": null,
            "flex": null,
            "flex_flow": null,
            "grid_area": null,
            "grid_auto_columns": null,
            "grid_auto_flow": null,
            "grid_auto_rows": null,
            "grid_column": null,
            "grid_gap": null,
            "grid_row": null,
            "grid_template_areas": null,
            "grid_template_columns": null,
            "grid_template_rows": null,
            "height": null,
            "justify_content": null,
            "justify_items": null,
            "left": null,
            "margin": null,
            "max_height": null,
            "max_width": null,
            "min_height": null,
            "min_width": null,
            "object_fit": null,
            "object_position": null,
            "order": null,
            "overflow": null,
            "overflow_x": null,
            "overflow_y": null,
            "padding": null,
            "right": null,
            "top": null,
            "visibility": null,
            "width": null
          }
        },
        "664081f8eb864312b166ec533ce65284": {
          "model_module": "@jupyter-widgets/controls",
          "model_name": "DescriptionStyleModel",
          "model_module_version": "1.5.0",
          "state": {
            "_model_module": "@jupyter-widgets/controls",
            "_model_module_version": "1.5.0",
            "_model_name": "DescriptionStyleModel",
            "_view_count": null,
            "_view_module": "@jupyter-widgets/base",
            "_view_module_version": "1.2.0",
            "_view_name": "StyleView",
            "description_width": ""
          }
        },
        "c481c1ff42ba4644a4254e5c0f00b947": {
          "model_module": "@jupyter-widgets/base",
          "model_name": "LayoutModel",
          "model_module_version": "1.2.0",
          "state": {
            "_model_module": "@jupyter-widgets/base",
            "_model_module_version": "1.2.0",
            "_model_name": "LayoutModel",
            "_view_count": null,
            "_view_module": "@jupyter-widgets/base",
            "_view_module_version": "1.2.0",
            "_view_name": "LayoutView",
            "align_content": null,
            "align_items": null,
            "align_self": null,
            "border": null,
            "bottom": null,
            "display": null,
            "flex": null,
            "flex_flow": null,
            "grid_area": null,
            "grid_auto_columns": null,
            "grid_auto_flow": null,
            "grid_auto_rows": null,
            "grid_column": null,
            "grid_gap": null,
            "grid_row": null,
            "grid_template_areas": null,
            "grid_template_columns": null,
            "grid_template_rows": null,
            "height": null,
            "justify_content": null,
            "justify_items": null,
            "left": null,
            "margin": null,
            "max_height": null,
            "max_width": null,
            "min_height": null,
            "min_width": null,
            "object_fit": null,
            "object_position": null,
            "order": null,
            "overflow": null,
            "overflow_x": null,
            "overflow_y": null,
            "padding": null,
            "right": null,
            "top": null,
            "visibility": null,
            "width": null
          }
        },
        "8056f3f481dd48868b851a4e129badcc": {
          "model_module": "@jupyter-widgets/controls",
          "model_name": "ProgressStyleModel",
          "model_module_version": "1.5.0",
          "state": {
            "_model_module": "@jupyter-widgets/controls",
            "_model_module_version": "1.5.0",
            "_model_name": "ProgressStyleModel",
            "_view_count": null,
            "_view_module": "@jupyter-widgets/base",
            "_view_module_version": "1.2.0",
            "_view_name": "StyleView",
            "bar_color": null,
            "description_width": ""
          }
        },
        "0aca84e9eb944bc6b91bc062315f120d": {
          "model_module": "@jupyter-widgets/base",
          "model_name": "LayoutModel",
          "model_module_version": "1.2.0",
          "state": {
            "_model_module": "@jupyter-widgets/base",
            "_model_module_version": "1.2.0",
            "_model_name": "LayoutModel",
            "_view_count": null,
            "_view_module": "@jupyter-widgets/base",
            "_view_module_version": "1.2.0",
            "_view_name": "LayoutView",
            "align_content": null,
            "align_items": null,
            "align_self": null,
            "border": null,
            "bottom": null,
            "display": null,
            "flex": null,
            "flex_flow": null,
            "grid_area": null,
            "grid_auto_columns": null,
            "grid_auto_flow": null,
            "grid_auto_rows": null,
            "grid_column": null,
            "grid_gap": null,
            "grid_row": null,
            "grid_template_areas": null,
            "grid_template_columns": null,
            "grid_template_rows": null,
            "height": null,
            "justify_content": null,
            "justify_items": null,
            "left": null,
            "margin": null,
            "max_height": null,
            "max_width": null,
            "min_height": null,
            "min_width": null,
            "object_fit": null,
            "object_position": null,
            "order": null,
            "overflow": null,
            "overflow_x": null,
            "overflow_y": null,
            "padding": null,
            "right": null,
            "top": null,
            "visibility": null,
            "width": null
          }
        },
        "b651772a6bbc4c778fcf86560d73187f": {
          "model_module": "@jupyter-widgets/controls",
          "model_name": "DescriptionStyleModel",
          "model_module_version": "1.5.0",
          "state": {
            "_model_module": "@jupyter-widgets/controls",
            "_model_module_version": "1.5.0",
            "_model_name": "DescriptionStyleModel",
            "_view_count": null,
            "_view_module": "@jupyter-widgets/base",
            "_view_module_version": "1.2.0",
            "_view_name": "StyleView",
            "description_width": ""
          }
        },
        "75a820d526c44ab7925968ceffe90712": {
          "model_module": "@jupyter-widgets/controls",
          "model_name": "HBoxModel",
          "model_module_version": "1.5.0",
          "state": {
            "_dom_classes": [],
            "_model_module": "@jupyter-widgets/controls",
            "_model_module_version": "1.5.0",
            "_model_name": "HBoxModel",
            "_view_count": null,
            "_view_module": "@jupyter-widgets/controls",
            "_view_module_version": "1.5.0",
            "_view_name": "HBoxView",
            "box_style": "",
            "children": [
              "IPY_MODEL_1dcc249788934ab3bb6cf72ae14c9db3",
              "IPY_MODEL_bb952dcbe3294444b46ba069356ea040",
              "IPY_MODEL_e2856abc200e4b45b0ddbac76d5afb13"
            ],
            "layout": "IPY_MODEL_70bf3d6fe42c4ff49c4cc01f3b4855ec"
          }
        },
        "1dcc249788934ab3bb6cf72ae14c9db3": {
          "model_module": "@jupyter-widgets/controls",
          "model_name": "HTMLModel",
          "model_module_version": "1.5.0",
          "state": {
            "_dom_classes": [],
            "_model_module": "@jupyter-widgets/controls",
            "_model_module_version": "1.5.0",
            "_model_name": "HTMLModel",
            "_view_count": null,
            "_view_module": "@jupyter-widgets/controls",
            "_view_module_version": "1.5.0",
            "_view_name": "HTMLView",
            "description": "",
            "description_tooltip": null,
            "layout": "IPY_MODEL_b7806bc94e244a538f1b4a5643e54615",
            "placeholder": "​",
            "style": "IPY_MODEL_659579d76acf4801a0f16f1a85fde5d4",
            "value": "tokenizer.json: 100%"
          }
        },
        "bb952dcbe3294444b46ba069356ea040": {
          "model_module": "@jupyter-widgets/controls",
          "model_name": "FloatProgressModel",
          "model_module_version": "1.5.0",
          "state": {
            "_dom_classes": [],
            "_model_module": "@jupyter-widgets/controls",
            "_model_module_version": "1.5.0",
            "_model_name": "FloatProgressModel",
            "_view_count": null,
            "_view_module": "@jupyter-widgets/controls",
            "_view_module_version": "1.5.0",
            "_view_name": "ProgressView",
            "bar_style": "success",
            "description": "",
            "description_tooltip": null,
            "layout": "IPY_MODEL_89d416f733af499f86ee769e0c13949e",
            "max": 466062,
            "min": 0,
            "orientation": "horizontal",
            "style": "IPY_MODEL_99f226d9fcaf4afa86ad140a11afce31",
            "value": 466062
          }
        },
        "e2856abc200e4b45b0ddbac76d5afb13": {
          "model_module": "@jupyter-widgets/controls",
          "model_name": "HTMLModel",
          "model_module_version": "1.5.0",
          "state": {
            "_dom_classes": [],
            "_model_module": "@jupyter-widgets/controls",
            "_model_module_version": "1.5.0",
            "_model_name": "HTMLModel",
            "_view_count": null,
            "_view_module": "@jupyter-widgets/controls",
            "_view_module_version": "1.5.0",
            "_view_name": "HTMLView",
            "description": "",
            "description_tooltip": null,
            "layout": "IPY_MODEL_0001ce45629e4b7c8ac899c512acdcb2",
            "placeholder": "​",
            "style": "IPY_MODEL_0281e66b18a8496789987fc391e49488",
            "value": " 466k/466k [00:00&lt;00:00, 5.89MB/s]"
          }
        },
        "70bf3d6fe42c4ff49c4cc01f3b4855ec": {
          "model_module": "@jupyter-widgets/base",
          "model_name": "LayoutModel",
          "model_module_version": "1.2.0",
          "state": {
            "_model_module": "@jupyter-widgets/base",
            "_model_module_version": "1.2.0",
            "_model_name": "LayoutModel",
            "_view_count": null,
            "_view_module": "@jupyter-widgets/base",
            "_view_module_version": "1.2.0",
            "_view_name": "LayoutView",
            "align_content": null,
            "align_items": null,
            "align_self": null,
            "border": null,
            "bottom": null,
            "display": null,
            "flex": null,
            "flex_flow": null,
            "grid_area": null,
            "grid_auto_columns": null,
            "grid_auto_flow": null,
            "grid_auto_rows": null,
            "grid_column": null,
            "grid_gap": null,
            "grid_row": null,
            "grid_template_areas": null,
            "grid_template_columns": null,
            "grid_template_rows": null,
            "height": null,
            "justify_content": null,
            "justify_items": null,
            "left": null,
            "margin": null,
            "max_height": null,
            "max_width": null,
            "min_height": null,
            "min_width": null,
            "object_fit": null,
            "object_position": null,
            "order": null,
            "overflow": null,
            "overflow_x": null,
            "overflow_y": null,
            "padding": null,
            "right": null,
            "top": null,
            "visibility": null,
            "width": null
          }
        },
        "b7806bc94e244a538f1b4a5643e54615": {
          "model_module": "@jupyter-widgets/base",
          "model_name": "LayoutModel",
          "model_module_version": "1.2.0",
          "state": {
            "_model_module": "@jupyter-widgets/base",
            "_model_module_version": "1.2.0",
            "_model_name": "LayoutModel",
            "_view_count": null,
            "_view_module": "@jupyter-widgets/base",
            "_view_module_version": "1.2.0",
            "_view_name": "LayoutView",
            "align_content": null,
            "align_items": null,
            "align_self": null,
            "border": null,
            "bottom": null,
            "display": null,
            "flex": null,
            "flex_flow": null,
            "grid_area": null,
            "grid_auto_columns": null,
            "grid_auto_flow": null,
            "grid_auto_rows": null,
            "grid_column": null,
            "grid_gap": null,
            "grid_row": null,
            "grid_template_areas": null,
            "grid_template_columns": null,
            "grid_template_rows": null,
            "height": null,
            "justify_content": null,
            "justify_items": null,
            "left": null,
            "margin": null,
            "max_height": null,
            "max_width": null,
            "min_height": null,
            "min_width": null,
            "object_fit": null,
            "object_position": null,
            "order": null,
            "overflow": null,
            "overflow_x": null,
            "overflow_y": null,
            "padding": null,
            "right": null,
            "top": null,
            "visibility": null,
            "width": null
          }
        },
        "659579d76acf4801a0f16f1a85fde5d4": {
          "model_module": "@jupyter-widgets/controls",
          "model_name": "DescriptionStyleModel",
          "model_module_version": "1.5.0",
          "state": {
            "_model_module": "@jupyter-widgets/controls",
            "_model_module_version": "1.5.0",
            "_model_name": "DescriptionStyleModel",
            "_view_count": null,
            "_view_module": "@jupyter-widgets/base",
            "_view_module_version": "1.2.0",
            "_view_name": "StyleView",
            "description_width": ""
          }
        },
        "89d416f733af499f86ee769e0c13949e": {
          "model_module": "@jupyter-widgets/base",
          "model_name": "LayoutModel",
          "model_module_version": "1.2.0",
          "state": {
            "_model_module": "@jupyter-widgets/base",
            "_model_module_version": "1.2.0",
            "_model_name": "LayoutModel",
            "_view_count": null,
            "_view_module": "@jupyter-widgets/base",
            "_view_module_version": "1.2.0",
            "_view_name": "LayoutView",
            "align_content": null,
            "align_items": null,
            "align_self": null,
            "border": null,
            "bottom": null,
            "display": null,
            "flex": null,
            "flex_flow": null,
            "grid_area": null,
            "grid_auto_columns": null,
            "grid_auto_flow": null,
            "grid_auto_rows": null,
            "grid_column": null,
            "grid_gap": null,
            "grid_row": null,
            "grid_template_areas": null,
            "grid_template_columns": null,
            "grid_template_rows": null,
            "height": null,
            "justify_content": null,
            "justify_items": null,
            "left": null,
            "margin": null,
            "max_height": null,
            "max_width": null,
            "min_height": null,
            "min_width": null,
            "object_fit": null,
            "object_position": null,
            "order": null,
            "overflow": null,
            "overflow_x": null,
            "overflow_y": null,
            "padding": null,
            "right": null,
            "top": null,
            "visibility": null,
            "width": null
          }
        },
        "99f226d9fcaf4afa86ad140a11afce31": {
          "model_module": "@jupyter-widgets/controls",
          "model_name": "ProgressStyleModel",
          "model_module_version": "1.5.0",
          "state": {
            "_model_module": "@jupyter-widgets/controls",
            "_model_module_version": "1.5.0",
            "_model_name": "ProgressStyleModel",
            "_view_count": null,
            "_view_module": "@jupyter-widgets/base",
            "_view_module_version": "1.2.0",
            "_view_name": "StyleView",
            "bar_color": null,
            "description_width": ""
          }
        },
        "0001ce45629e4b7c8ac899c512acdcb2": {
          "model_module": "@jupyter-widgets/base",
          "model_name": "LayoutModel",
          "model_module_version": "1.2.0",
          "state": {
            "_model_module": "@jupyter-widgets/base",
            "_model_module_version": "1.2.0",
            "_model_name": "LayoutModel",
            "_view_count": null,
            "_view_module": "@jupyter-widgets/base",
            "_view_module_version": "1.2.0",
            "_view_name": "LayoutView",
            "align_content": null,
            "align_items": null,
            "align_self": null,
            "border": null,
            "bottom": null,
            "display": null,
            "flex": null,
            "flex_flow": null,
            "grid_area": null,
            "grid_auto_columns": null,
            "grid_auto_flow": null,
            "grid_auto_rows": null,
            "grid_column": null,
            "grid_gap": null,
            "grid_row": null,
            "grid_template_areas": null,
            "grid_template_columns": null,
            "grid_template_rows": null,
            "height": null,
            "justify_content": null,
            "justify_items": null,
            "left": null,
            "margin": null,
            "max_height": null,
            "max_width": null,
            "min_height": null,
            "min_width": null,
            "object_fit": null,
            "object_position": null,
            "order": null,
            "overflow": null,
            "overflow_x": null,
            "overflow_y": null,
            "padding": null,
            "right": null,
            "top": null,
            "visibility": null,
            "width": null
          }
        },
        "0281e66b18a8496789987fc391e49488": {
          "model_module": "@jupyter-widgets/controls",
          "model_name": "DescriptionStyleModel",
          "model_module_version": "1.5.0",
          "state": {
            "_model_module": "@jupyter-widgets/controls",
            "_model_module_version": "1.5.0",
            "_model_name": "DescriptionStyleModel",
            "_view_count": null,
            "_view_module": "@jupyter-widgets/base",
            "_view_module_version": "1.2.0",
            "_view_name": "StyleView",
            "description_width": ""
          }
        }
      }
    }
  },
  "cells": [
    {
      "cell_type": "markdown",
      "metadata": {
        "id": "view-in-github",
        "colab_type": "text"
      },
      "source": [
        "<a href=\"https://colab.research.google.com/github/Sandesh816/Deep-Learning-Project/blob/main/News_Bias_Detector.ipynb\" target=\"_parent\"><img src=\"https://colab.research.google.com/assets/colab-badge.svg\" alt=\"Open In Colab\"/></a>"
      ]
    },
    {
      "cell_type": "markdown",
      "source": [
        "**NEWS BIAS DETECTOR**"
      ],
      "metadata": {
        "id": "CdpFzeeMBVXw"
      }
    },
    {
      "cell_type": "code",
      "execution_count": 1,
      "metadata": {
        "id": "oqxH1bVBA8oF"
      },
      "outputs": [],
      "source": [
        "import pandas as pd\n",
        "import numpy as np\n",
        "import matplotlib.pyplot as plt"
      ]
    },
    {
      "cell_type": "markdown",
      "source": [
        "**Load Data**"
      ],
      "metadata": {
        "id": "tN4JU0GODxr4"
      }
    },
    {
      "cell_type": "code",
      "source": [
        "filename = \"allsides_balanced_news_headlines-texts.csv\"\n",
        "\n",
        "import requests\n",
        "url = 'https://raw.githubusercontent.com/irgroup/Qbias/refs/heads/main/allsides_balanced_news_headlines-texts.csv'\n",
        "res = requests.get(url, allow_redirects=True)\n",
        "with open(filename,'wb') as file:\n",
        "    file.write(res.content)\n",
        "\n",
        "df = pd.read_csv(filename)\n",
        "print(\"Shape:\", df.shape)\n",
        "print(df.head(10))\n",
        "print(f\"Columns: {df.columns}\")"
      ],
      "metadata": {
        "id": "2TmoHnbYB3Ev",
        "colab": {
          "base_uri": "https://localhost:8080/"
        },
        "outputId": "af20da0b-41ed-458b-9031-89acface8c93"
      },
      "execution_count": 24,
      "outputs": [
        {
          "output_type": "stream",
          "name": "stdout",
          "text": [
            "Shape: (21754, 7)\n",
            "   Unnamed: 0                                              title  \\\n",
            "0           0           Gun Violence Over Fourth of July Weekend   \n",
            "1           1           Gun Violence Over Fourth of July Weekend   \n",
            "2           2           Gun Violence Over Fourth of July Weekend   \n",
            "3           3  Yellen Warns Congress of 'Economic Recession' ...   \n",
            "4           4  Yellen Warns Congress of 'Economic Recession' ...   \n",
            "5           5  Yellen Warns Congress of 'Economic Recession' ...   \n",
            "6           6                       Night 2: Christie on Hillary   \n",
            "7           7                       Night 2: Christie on Hillary   \n",
            "8           8                       Night 2: Christie on Hillary   \n",
            "9           9  Denying Abortion Medication Could Violate Civi...   \n",
            "\n",
            "                                                tags  \\\n",
            "0  ['Protests', 'Fourth Of July', 'Gun Control An...   \n",
            "1  ['Protests', 'Fourth Of July', 'Gun Control An...   \n",
            "2  ['Protests', 'Fourth Of July', 'Gun Control An...   \n",
            "3  ['Janet Yellen', 'Debt Ceiling', 'Economic Pol...   \n",
            "4  ['Janet Yellen', 'Debt Ceiling', 'Economic Pol...   \n",
            "5  ['Janet Yellen', 'Debt Ceiling', 'Economic Pol...   \n",
            "6                   ['Republican Party', 'Politics']   \n",
            "7                   ['Republican Party', 'Politics']   \n",
            "8                   ['Republican Party', 'Politics']   \n",
            "9  ['Abortion', 'Pharmacies', 'Abortion Pills', '...   \n",
            "\n",
            "                                             heading                  source  \\\n",
            "0  Chicago Gun Violence Spikes and Increasingly F...   New York Times (News)   \n",
            "1  ‘Bullets just came from nowhere’: Fourth of Ju...         Chicago Tribune   \n",
            "2  Dozens of shootings across US mark bloody July...    New York Post (News)   \n",
            "3  Federal Government Will Run Out of Cash on Oct...         The Epoch Times   \n",
            "4  Yellen tells Congress that U.S. will run out o...         Washington Post   \n",
            "5  Yellen warns lawmakers U.S. Treasury to hit de...                 Reuters   \n",
            "6  Washed-Up Chris Christie Rips Into Hillary Cli...             Daily Beast   \n",
            "7  Christie convicts Clinton, but was he 'guilty'...  Fox News (Online News)   \n",
            "8  Anti-Clinton Republican National Convention Cr...                HuffPost   \n",
            "9  Biden admin to pharmacies: Refusing to fill co...                Politico   \n",
            "\n",
            "                                                text bias_rating  \n",
            "0  As Yasmin Miller drove home from a laundromat ...        left  \n",
            "1  As many Chicagoans were celebrating the Fourth...      center  \n",
            "2  The nation’s 4th of July weekend was marred by...       right  \n",
            "3  Treasury Secretary Janet Yellen on Tuesday war...       right  \n",
            "4  Treasury Secretary Janet Yellen on Tuesday tol...        left  \n",
            "5  U.S. Treasury Secretary Janet Yellen on Tuesda...      center  \n",
            "6  It was surely different from 2012.\\nBack then,...        left  \n",
            "7  Chris Christie wasn’t the only one prosecuting...       right  \n",
            "8  The crowd at the 2016 Republican National Conv...        left  \n",
            "9  Senior Biden administration officials announce...        left  \n",
            "Columns: Index(['Unnamed: 0', 'title', 'tags', 'heading', 'source', 'text',\n",
            "       'bias_rating'],\n",
            "      dtype='object')\n"
          ]
        }
      ]
    },
    {
      "cell_type": "markdown",
      "source": [
        "**Drop 'Unnamed: 0' column and reset index**"
      ],
      "metadata": {
        "id": "FE5DVEgmD5fX"
      }
    },
    {
      "cell_type": "code",
      "source": [
        "df.drop(columns= [\"Unnamed: 0\"], inplace = True)\n",
        "df.reset_index(drop = True, inplace = True)\n",
        "print(df.columns)"
      ],
      "metadata": {
        "id": "DKzAkVVMCJUM",
        "colab": {
          "base_uri": "https://localhost:8080/"
        },
        "outputId": "869b0908-b4a6-464d-e024-710d83b4b7f1"
      },
      "execution_count": 25,
      "outputs": [
        {
          "output_type": "stream",
          "name": "stdout",
          "text": [
            "Index(['title', 'tags', 'heading', 'source', 'text', 'bias_rating'], dtype='object')\n"
          ]
        }
      ]
    },
    {
      "cell_type": "code",
      "source": [
        "print(df.head())"
      ],
      "metadata": {
        "id": "ywWso0KoCK8z",
        "colab": {
          "base_uri": "https://localhost:8080/"
        },
        "outputId": "ad29383d-4470-4d0e-e38b-7d1abaefeceb"
      },
      "execution_count": 26,
      "outputs": [
        {
          "output_type": "stream",
          "name": "stdout",
          "text": [
            "                                               title  \\\n",
            "0           Gun Violence Over Fourth of July Weekend   \n",
            "1           Gun Violence Over Fourth of July Weekend   \n",
            "2           Gun Violence Over Fourth of July Weekend   \n",
            "3  Yellen Warns Congress of 'Economic Recession' ...   \n",
            "4  Yellen Warns Congress of 'Economic Recession' ...   \n",
            "\n",
            "                                                tags  \\\n",
            "0  ['Protests', 'Fourth Of July', 'Gun Control An...   \n",
            "1  ['Protests', 'Fourth Of July', 'Gun Control An...   \n",
            "2  ['Protests', 'Fourth Of July', 'Gun Control An...   \n",
            "3  ['Janet Yellen', 'Debt Ceiling', 'Economic Pol...   \n",
            "4  ['Janet Yellen', 'Debt Ceiling', 'Economic Pol...   \n",
            "\n",
            "                                             heading                 source  \\\n",
            "0  Chicago Gun Violence Spikes and Increasingly F...  New York Times (News)   \n",
            "1  ‘Bullets just came from nowhere’: Fourth of Ju...        Chicago Tribune   \n",
            "2  Dozens of shootings across US mark bloody July...   New York Post (News)   \n",
            "3  Federal Government Will Run Out of Cash on Oct...        The Epoch Times   \n",
            "4  Yellen tells Congress that U.S. will run out o...        Washington Post   \n",
            "\n",
            "                                                text bias_rating  \n",
            "0  As Yasmin Miller drove home from a laundromat ...        left  \n",
            "1  As many Chicagoans were celebrating the Fourth...      center  \n",
            "2  The nation’s 4th of July weekend was marred by...       right  \n",
            "3  Treasury Secretary Janet Yellen on Tuesday war...       right  \n",
            "4  Treasury Secretary Janet Yellen on Tuesday tol...        left  \n"
          ]
        }
      ]
    },
    {
      "cell_type": "markdown",
      "source": [
        "**Data Exploration**"
      ],
      "metadata": {
        "id": "6euwtPJbD_Mt"
      }
    },
    {
      "cell_type": "code",
      "source": [
        "# Explore number of labeled articles in each bucket\n",
        "left_df = df[df[\"bias_rating\"] == \"left\"]\n",
        "right_df = df[df[\"bias_rating\"] == \"right\"]\n",
        "center_df = df[df[\"bias_rating\"] == \"center\"]\n",
        "\n",
        "print(f\"Left: {left_df.shape}\")\n",
        "print(f\"Right: {right_df.shape}\")\n",
        "print(f\"Center: {center_df.shape}\")"
      ],
      "metadata": {
        "id": "AyUYvaGVEhKI",
        "colab": {
          "base_uri": "https://localhost:8080/"
        },
        "outputId": "58142d7d-c5c2-472c-db81-e3ea58fdff3a"
      },
      "execution_count": 27,
      "outputs": [
        {
          "output_type": "stream",
          "name": "stdout",
          "text": [
            "Left: (10275, 6)\n",
            "Right: (7226, 6)\n",
            "Center: (4253, 6)\n"
          ]
        }
      ]
    },
    {
      "cell_type": "code",
      "source": [
        "# Explore word counts across articles\n",
        "left_word_count = sum(left_df[\"text\"].fillna(\"\").str.split().apply(len))\n",
        "right_word_count = sum(right_df[\"text\"].fillna(\"\").str.split().apply(len))\n",
        "center_word_count = sum(center_df[\"text\"].fillna(\"\").str.split().apply(len))\n",
        "\n",
        "print(\"Left Leaning Articles Word Count:\", left_word_count)\n",
        "print(\"Right Leaning Articles Word Count:\", right_word_count)\n",
        "print(\"Center Leaning Articles Word Count:\", center_word_count)"
      ],
      "metadata": {
        "id": "Tg02A2mrE1Cw",
        "colab": {
          "base_uri": "https://localhost:8080/"
        },
        "outputId": "fe0d08e7-ea35-4d01-9316-ab77d709dacf"
      },
      "execution_count": 28,
      "outputs": [
        {
          "output_type": "stream",
          "name": "stdout",
          "text": [
            "Left Leaning Articles Word Count: 658761\n",
            "Right Leaning Articles Word Count: 481681\n",
            "Center Leaning Articles Word Count: 301266\n"
          ]
        }
      ]
    },
    {
      "cell_type": "markdown",
      "source": [
        "There is a discrepancy in the total word count of the articles labeled left, right, and center"
      ],
      "metadata": {
        "id": "Y8OO_T3UGTjW"
      }
    },
    {
      "cell_type": "code",
      "source": [
        "# Analyze the average lengths of left, right, and center leaning articles to check quality of dataset\n",
        "average_length_left = left_word_count / left_df.shape[0]\n",
        "average_length_right = right_word_count / right_df.shape[0]\n",
        "average_length_center = center_word_count / center_df.shape[0]\n",
        "\n",
        "print(\"Average length of left-leaning articles:\", average_length_left)\n",
        "print(\"Average length of right-leaning articles:\", average_length_right)\n",
        "print(\"Average length of center-leaning articles:\", average_length_center)"
      ],
      "metadata": {
        "id": "k-J0cZv0adCJ",
        "colab": {
          "base_uri": "https://localhost:8080/"
        },
        "outputId": "394235e5-0269-4f1f-94f0-184fb681245b"
      },
      "execution_count": 29,
      "outputs": [
        {
          "output_type": "stream",
          "name": "stdout",
          "text": [
            "Average length of left-leaning articles: 64.11299270072993\n",
            "Average length of right-leaning articles: 66.65942430113479\n",
            "Average length of center-leaning articles: 70.83611568304725\n"
          ]
        }
      ]
    },
    {
      "cell_type": "code",
      "source": [
        "# Explore tag lengths across articles\n",
        "left_tags_count = sum(left_df[\"tags\"].fillna(\"\").str.split(\",\").apply(len))\n",
        "right_tags_count = sum(right_df[\"tags\"].fillna(\"\").str.split(\",\").apply(len))\n",
        "center_tags_count = sum(center_df[\"tags\"].fillna(\"\").str.split(\",\").apply(len))\n",
        "\n",
        "print(\"Left Leaning Articles Tags Count:\", left_tags_count)\n",
        "print(\"Right Leaning Articles Tags Count:\", right_tags_count)\n",
        "print(\"Center Leaning Articles Tags Count:\", center_tags_count)"
      ],
      "metadata": {
        "id": "YF6iMV0DFf1R",
        "colab": {
          "base_uri": "https://localhost:8080/"
        },
        "outputId": "91f0bea6-d584-4871-a6cb-68206bda6904"
      },
      "execution_count": 30,
      "outputs": [
        {
          "output_type": "stream",
          "name": "stdout",
          "text": [
            "Left Leaning Articles Tags Count: 35898\n",
            "Right Leaning Articles Tags Count: 27676\n",
            "Center Leaning Articles Tags Count: 19801\n"
          ]
        }
      ]
    },
    {
      "cell_type": "markdown",
      "source": [
        "Tags counts are closer"
      ],
      "metadata": {
        "id": "fJ_U8wlAG0y4"
      }
    },
    {
      "cell_type": "markdown",
      "source": [
        "**Data Preparation**"
      ],
      "metadata": {
        "id": "rgb06eQ4FjfG"
      }
    },
    {
      "cell_type": "code",
      "source": [
        "# Convert words to lowercase in all columns\n",
        "df = df.map(lambda x: x.lower() if isinstance(x, str) else x)\n",
        "print(df.head())"
      ],
      "metadata": {
        "id": "z-nFEhKYDlJ0",
        "colab": {
          "base_uri": "https://localhost:8080/"
        },
        "outputId": "2b477875-8950-4afe-9170-78b028772954"
      },
      "execution_count": 31,
      "outputs": [
        {
          "output_type": "stream",
          "name": "stdout",
          "text": [
            "                                               title  \\\n",
            "0           gun violence over fourth of july weekend   \n",
            "1           gun violence over fourth of july weekend   \n",
            "2           gun violence over fourth of july weekend   \n",
            "3  yellen warns congress of 'economic recession' ...   \n",
            "4  yellen warns congress of 'economic recession' ...   \n",
            "\n",
            "                                                tags  \\\n",
            "0  ['protests', 'fourth of july', 'gun control an...   \n",
            "1  ['protests', 'fourth of july', 'gun control an...   \n",
            "2  ['protests', 'fourth of july', 'gun control an...   \n",
            "3  ['janet yellen', 'debt ceiling', 'economic pol...   \n",
            "4  ['janet yellen', 'debt ceiling', 'economic pol...   \n",
            "\n",
            "                                             heading                 source  \\\n",
            "0  chicago gun violence spikes and increasingly f...  new york times (news)   \n",
            "1  ‘bullets just came from nowhere’: fourth of ju...        chicago tribune   \n",
            "2  dozens of shootings across us mark bloody july...   new york post (news)   \n",
            "3  federal government will run out of cash on oct...        the epoch times   \n",
            "4  yellen tells congress that u.s. will run out o...        washington post   \n",
            "\n",
            "                                                text bias_rating  \n",
            "0  as yasmin miller drove home from a laundromat ...        left  \n",
            "1  as many chicagoans were celebrating the fourth...      center  \n",
            "2  the nation’s 4th of july weekend was marred by...       right  \n",
            "3  treasury secretary janet yellen on tuesday war...       right  \n",
            "4  treasury secretary janet yellen on tuesday tol...        left  \n"
          ]
        }
      ]
    },
    {
      "cell_type": "code",
      "source": [
        "# Shuffle df and split into X and Y\n",
        "# all_indices = np.arange(df.shape[0])\n",
        "# np.random.shuffle(all_indices)\n",
        "\n",
        "# test_size = int(0.2 * df.shape[0])\n",
        "# validation_size = int(0.1 * df.shape[0])\n",
        "\n",
        "# test_indices = all_indices[: test_size]\n",
        "# validation_indices = all_indices[test_size: test_size + validation_size]\n",
        "# train_indices = all_indices[test_size + validation_size: ]\n",
        "\n",
        "# X_train = df.iloc[train_indices].drop(columns = [\"bias_rating\"]).reset_index(drop = True)\n",
        "# X_validation = df.iloc[validation_indices].drop(columns = [\"bias_rating\"]).reset_index(drop = True)\n",
        "# X_test = df.iloc[test_indices].drop(columns = [\"bias_rating\"]).reset_index(drop = True)\n",
        "\n",
        "# y_train = df.iloc[train_indices][\"bias_rating\"].reset_index(drop = True)\n",
        "# y_validation = df.iloc[validation_indices][\"bias_rating\"].reset_index(drop = True)\n",
        "# y_test = df.iloc[test_indices][\"bias_rating\"].reset_index(drop = True)\n",
        "\n",
        "# print(f\"X_train shape: {X_train.shape}\")\n",
        "# print(f\"X_validation shape: {X_validation.shape}\")\n",
        "# print(f\"X_test shape: {X_test.shape}\")\n",
        "# print(f\"y_train shape: {y_train.shape}\")\n",
        "# print(f\"y_validation shape: {y_validation.shape}\")\n",
        "# print(f\"y_test shape: {y_test.shape}\")\n",
        "\n",
        "# print(X_train.head())\n",
        "# print(y_train.head())"
      ],
      "metadata": {
        "id": "jy8XlaZtKBHs"
      },
      "execution_count": null,
      "outputs": []
    },
    {
      "cell_type": "code",
      "source": [
        "# Shuffle df and split into X and Y\n",
        "# df = df.sample(frac = 1) ## don't really need it as train_test_split will shuffle all rows\n",
        "X = df[['title', 'heading', 'text']]\n",
        "y = df[\"bias_rating\"]\n",
        "print(X.head())\n",
        "print(y.head())"
      ],
      "metadata": {
        "id": "VU1Ook-LtI_e",
        "colab": {
          "base_uri": "https://localhost:8080/"
        },
        "outputId": "059581ec-e929-419a-f4b4-e87b9b5d110c"
      },
      "execution_count": 32,
      "outputs": [
        {
          "output_type": "stream",
          "name": "stdout",
          "text": [
            "                                               title  \\\n",
            "0           gun violence over fourth of july weekend   \n",
            "1           gun violence over fourth of july weekend   \n",
            "2           gun violence over fourth of july weekend   \n",
            "3  yellen warns congress of 'economic recession' ...   \n",
            "4  yellen warns congress of 'economic recession' ...   \n",
            "\n",
            "                                             heading  \\\n",
            "0  chicago gun violence spikes and increasingly f...   \n",
            "1  ‘bullets just came from nowhere’: fourth of ju...   \n",
            "2  dozens of shootings across us mark bloody july...   \n",
            "3  federal government will run out of cash on oct...   \n",
            "4  yellen tells congress that u.s. will run out o...   \n",
            "\n",
            "                                                text  \n",
            "0  as yasmin miller drove home from a laundromat ...  \n",
            "1  as many chicagoans were celebrating the fourth...  \n",
            "2  the nation’s 4th of july weekend was marred by...  \n",
            "3  treasury secretary janet yellen on tuesday war...  \n",
            "4  treasury secretary janet yellen on tuesday tol...  \n",
            "0      left\n",
            "1    center\n",
            "2     right\n",
            "3     right\n",
            "4      left\n",
            "Name: bias_rating, dtype: object\n"
          ]
        }
      ]
    },
    {
      "cell_type": "code",
      "source": [
        "# Split into training, testing with even ratio between articles from each side (stratify)\n",
        "from sklearn.model_selection import train_test_split\n",
        "X_train, X_test, y_train, y_test = train_test_split(X, y, test_size=0.3, stratify=y, random_state=42, shuffle= True)\n",
        "X_test, X_valid, y_test, y_valid = train_test_split(X_test, y_test, test_size=0.5, stratify=y_test, random_state=42, shuffle= True)\n",
        "print(f\"X_train shape: {X_train.shape}\")\n",
        "print(f\"X_test shape: {X_test.shape}\")\n",
        "print(f\"X_valid shape: {X_valid.shape}\")\n",
        "print(f\"y_train shape: {y_train.shape}\")\n",
        "print(f\"y_test shape: {y_test.shape}\")\n",
        "print(f\"y_valid shape: {y_valid.shape}\")\n",
        "\n",
        "print(X_train.head(2))\n",
        "print(y_train.head(2))"
      ],
      "metadata": {
        "id": "HJnQ6u-qKY1U",
        "colab": {
          "base_uri": "https://localhost:8080/"
        },
        "outputId": "97d5f281-dd4f-4e62-c714-d7eef06352fe"
      },
      "execution_count": 33,
      "outputs": [
        {
          "output_type": "stream",
          "name": "stdout",
          "text": [
            "X_train shape: (15227, 3)\n",
            "X_test shape: (3263, 3)\n",
            "X_valid shape: (3264, 3)\n",
            "y_train shape: (15227,)\n",
            "y_test shape: (3263,)\n",
            "y_valid shape: (3264,)\n",
            "                                  title  \\\n",
            "9300           clinton, greenpeace spat   \n",
            "18177  trump taps rick perry for energy   \n",
            "\n",
            "                                                 heading  \\\n",
            "9300   fact checking the clinton-sanders spat over bi...   \n",
            "18177         trump picks rick perry as energy secretary   \n",
            "\n",
            "                                                    text  \n",
            "9300   “i have money from people who work for fossil-...  \n",
            "18177  president-elect donald trump will pick former ...  \n",
            "9300      left\n",
            "18177    right\n",
            "Name: bias_rating, dtype: object\n"
          ]
        }
      ]
    },
    {
      "cell_type": "markdown",
      "source": [
        "Resetting indices"
      ],
      "metadata": {
        "id": "Vnkpz1bxvrmj"
      }
    },
    {
      "cell_type": "code",
      "source": [
        "X_train = X_train.reset_index(drop = True)\n",
        "X_test = X_test.reset_index(drop = True)\n",
        "X_valid = X_valid.reset_index(drop = True)\n",
        "y_train = y_train.reset_index(drop = True)\n",
        "y_test = y_test.reset_index(drop = True)\n",
        "y_valid = y_valid.reset_index(drop = True)\n",
        "\n",
        "print(X_train.head(2))\n",
        "print(y_train.head(2))"
      ],
      "metadata": {
        "id": "_A24a_owvTHH",
        "colab": {
          "base_uri": "https://localhost:8080/"
        },
        "outputId": "010256b3-0fe6-4651-9083-4646e0fda6eb"
      },
      "execution_count": 34,
      "outputs": [
        {
          "output_type": "stream",
          "name": "stdout",
          "text": [
            "                              title  \\\n",
            "0          clinton, greenpeace spat   \n",
            "1  trump taps rick perry for energy   \n",
            "\n",
            "                                             heading  \\\n",
            "0  fact checking the clinton-sanders spat over bi...   \n",
            "1         trump picks rick perry as energy secretary   \n",
            "\n",
            "                                                text  \n",
            "0  “i have money from people who work for fossil-...  \n",
            "1  president-elect donald trump will pick former ...  \n",
            "0     left\n",
            "1    right\n",
            "Name: bias_rating, dtype: object\n"
          ]
        }
      ]
    },
    {
      "cell_type": "markdown",
      "source": [
        "\n",
        "\n",
        "**Milestone 2**\n",
        "\n"
      ],
      "metadata": {
        "id": "IGcLqjcmKT5t"
      }
    },
    {
      "cell_type": "code",
      "source": [
        "import tensorflow as tf\n",
        "import huggingface_hub\n",
        "from transformers import AutoTokenizer, TFBertModel"
      ],
      "metadata": {
        "id": "6dwDwSxBGwla"
      },
      "execution_count": 23,
      "outputs": []
    },
    {
      "cell_type": "code",
      "source": [
        "# We will use the BERT model as our baseline model\n",
        "model_name = \"bert-base-uncased\"\n",
        "model = TFBertModel.from_pretrained(model_name)\n",
        "tokenizer = AutoTokenizer.from_pretrained(model_name)"
      ],
      "metadata": {
        "id": "5oJ7-cy7HSU-",
        "colab": {
          "base_uri": "https://localhost:8080/",
          "height": 429,
          "referenced_widgets": [
            "d3f382138dd9477194d5d26252ff411e",
            "617289e19eaf4cc183205a941f6d9ab7",
            "e6b13a6c5ee040afa11cc215e9d7a334",
            "148cd48e97ab497a88e6afda49cf9c3f",
            "ccd7b55657f94d788ab709aa545623aa",
            "dc97c3ea44a84cdf9929d0e7112ea7f1",
            "6fada8aad907474489e76c0d0d38902c",
            "e894c6be661449029ce08a458717b03a",
            "43d3f2e851714043b508b200c3512bf5",
            "0d8eef25569949b593983d2c8c632011",
            "be8a31ffc5b34e948365b4e9d2cf5a51",
            "7767f6d618084a8fa53926efa9064ed4",
            "7b892722cb804a94be35a673795bfd25",
            "e71209f5b6f34a1ea371f2bc5f6de439",
            "9ef75df276c1464a9229bb337f0e6285",
            "6c1d0f4a78354a0492aeb507fd8dee2d",
            "6bdd1c8efa434e49b675afe7c7203633",
            "f4591a2a4f22409aa7853fc4f70123f0",
            "0fe0aa0f9e694adabc226c5f804a5743",
            "41bc927b0f5a42e9a2b23dc5d53446e7",
            "63b09915102a40f8815124c3ec736910",
            "493a2dfdbf16439da34f4205f6132584",
            "3cf7f1841b0a4477bd419cd7a153cae1",
            "5ae7a7f3170b4a0c93eef165cba222f4",
            "f7cbaba1313249c8a331701bd7284581",
            "d5ec2e9f11e647ec962ef1b81e13caa5",
            "529cce152a0345889ea01dee3d5d096e",
            "4df2b0c76ab94631a13dbd272d2064e8",
            "1016fdc9436945e3899cd6be48aae470",
            "ae8dc852dbf246c7ba882ce283787421",
            "077dca12ce454433848a94f20e115699",
            "72391a32915447fea25a5a923c364fd7",
            "6d75681e305b4325a2fc8b211cd1a1de",
            "51b073fa99ea4d8896858714895d1a53",
            "014a9be2b611405c8946c5cabf186a54",
            "544e77af266944c4bf01c65e4d51d54e",
            "669a71177131497eb580302b19182318",
            "72d4c06b3a834e17acb45d5a39d3ccb3",
            "a7c00ad28d7c402fa78116a543bf4d03",
            "664081f8eb864312b166ec533ce65284",
            "c481c1ff42ba4644a4254e5c0f00b947",
            "8056f3f481dd48868b851a4e129badcc",
            "0aca84e9eb944bc6b91bc062315f120d",
            "b651772a6bbc4c778fcf86560d73187f",
            "75a820d526c44ab7925968ceffe90712",
            "1dcc249788934ab3bb6cf72ae14c9db3",
            "bb952dcbe3294444b46ba069356ea040",
            "e2856abc200e4b45b0ddbac76d5afb13",
            "70bf3d6fe42c4ff49c4cc01f3b4855ec",
            "b7806bc94e244a538f1b4a5643e54615",
            "659579d76acf4801a0f16f1a85fde5d4",
            "89d416f733af499f86ee769e0c13949e",
            "99f226d9fcaf4afa86ad140a11afce31",
            "0001ce45629e4b7c8ac899c512acdcb2",
            "0281e66b18a8496789987fc391e49488"
          ]
        },
        "outputId": "cfced13b-5554-4a7a-c165-0f3cd4c31752"
      },
      "execution_count": 35,
      "outputs": [
        {
          "output_type": "stream",
          "name": "stderr",
          "text": [
            "/usr/local/lib/python3.11/dist-packages/huggingface_hub/utils/_auth.py:94: UserWarning: \n",
            "The secret `HF_TOKEN` does not exist in your Colab secrets.\n",
            "To authenticate with the Hugging Face Hub, create a token in your settings tab (https://huggingface.co/settings/tokens), set it as secret in your Google Colab and restart your session.\n",
            "You will be able to reuse this secret in all of your notebooks.\n",
            "Please note that authentication is recommended but still optional to access public models or datasets.\n",
            "  warnings.warn(\n"
          ]
        },
        {
          "output_type": "display_data",
          "data": {
            "text/plain": [
              "config.json:   0%|          | 0.00/570 [00:00<?, ?B/s]"
            ],
            "application/vnd.jupyter.widget-view+json": {
              "version_major": 2,
              "version_minor": 0,
              "model_id": "d3f382138dd9477194d5d26252ff411e"
            }
          },
          "metadata": {}
        },
        {
          "output_type": "stream",
          "name": "stderr",
          "text": [
            "Xet Storage is enabled for this repo, but the 'hf_xet' package is not installed. Falling back to regular HTTP download. For better performance, install the package with: `pip install huggingface_hub[hf_xet]` or `pip install hf_xet`\n",
            "WARNING:huggingface_hub.file_download:Xet Storage is enabled for this repo, but the 'hf_xet' package is not installed. Falling back to regular HTTP download. For better performance, install the package with: `pip install huggingface_hub[hf_xet]` or `pip install hf_xet`\n"
          ]
        },
        {
          "output_type": "display_data",
          "data": {
            "text/plain": [
              "model.safetensors:   0%|          | 0.00/440M [00:00<?, ?B/s]"
            ],
            "application/vnd.jupyter.widget-view+json": {
              "version_major": 2,
              "version_minor": 0,
              "model_id": "7767f6d618084a8fa53926efa9064ed4"
            }
          },
          "metadata": {}
        },
        {
          "output_type": "stream",
          "name": "stderr",
          "text": [
            "Some weights of the PyTorch model were not used when initializing the TF 2.0 model TFBertModel: ['cls.predictions.bias', 'cls.seq_relationship.weight', 'cls.predictions.transform.LayerNorm.bias', 'cls.predictions.transform.dense.weight', 'cls.seq_relationship.bias', 'cls.predictions.transform.LayerNorm.weight', 'cls.predictions.transform.dense.bias']\n",
            "- This IS expected if you are initializing TFBertModel from a PyTorch model trained on another task or with another architecture (e.g. initializing a TFBertForSequenceClassification model from a BertForPreTraining model).\n",
            "- This IS NOT expected if you are initializing TFBertModel from a PyTorch model that you expect to be exactly identical (e.g. initializing a TFBertForSequenceClassification model from a BertForSequenceClassification model).\n",
            "All the weights of TFBertModel were initialized from the PyTorch model.\n",
            "If your task is similar to the task the model of the checkpoint was trained on, you can already use TFBertModel for predictions without further training.\n"
          ]
        },
        {
          "output_type": "display_data",
          "data": {
            "text/plain": [
              "tokenizer_config.json:   0%|          | 0.00/48.0 [00:00<?, ?B/s]"
            ],
            "application/vnd.jupyter.widget-view+json": {
              "version_major": 2,
              "version_minor": 0,
              "model_id": "3cf7f1841b0a4477bd419cd7a153cae1"
            }
          },
          "metadata": {}
        },
        {
          "output_type": "display_data",
          "data": {
            "text/plain": [
              "vocab.txt:   0%|          | 0.00/232k [00:00<?, ?B/s]"
            ],
            "application/vnd.jupyter.widget-view+json": {
              "version_major": 2,
              "version_minor": 0,
              "model_id": "51b073fa99ea4d8896858714895d1a53"
            }
          },
          "metadata": {}
        },
        {
          "output_type": "display_data",
          "data": {
            "text/plain": [
              "tokenizer.json:   0%|          | 0.00/466k [00:00<?, ?B/s]"
            ],
            "application/vnd.jupyter.widget-view+json": {
              "version_major": 2,
              "version_minor": 0,
              "model_id": "75a820d526c44ab7925968ceffe90712"
            }
          },
          "metadata": {}
        }
      ]
    },
    {
      "cell_type": "code",
      "source": [
        "# Tokenize the first article's text for sanity check\n",
        "test_tokens = tokenizer.tokenize(X_train[\"text\"][0])\n",
        "test_token_ids = tokenizer.convert_tokens_to_ids(test_tokens)\n",
        "print(test_tokens)\n",
        "print(test_token_ids)"
      ],
      "metadata": {
        "id": "Cw_VbecNBXwT",
        "colab": {
          "base_uri": "https://localhost:8080/"
        },
        "outputId": "5f6401ab-dcb1-4b07-9e2a-6138923f0775"
      },
      "execution_count": 36,
      "outputs": [
        {
          "output_type": "stream",
          "name": "stdout",
          "text": [
            "['“', 'i', 'have', 'money', 'from', 'people', 'who', 'work', 'for', 'fossil', '-', 'fuel', 'companies', '.', 'i', 'am', 'so', 'sick', '—', 'i', 'am', 'so', 'sick', 'of', 'the', 'sanders', 'campaign', 'lying', 'about', 'me', '.', '”', '—', 'hillary', 'clinton', ',', 'to', 'a', 'green', '##pe', '##ace', 'activist', ',', 'march', '31', ',', '2016', '“', 'the', 'fact', 'of', 'the', 'matter', 'is', 'secretary', 'clinton', 'has', 'taken', 'significant', 'money', 'from', 'the', 'fossil', 'fuel', 'industry', '.', 'she', 'raises', 'her', 'money', 'with', 'a', 'super', 'pac', '.', 'she', 'gets', 'a', 'lot', 'of', 'money', 'from', 'wall', 'street', ',', 'from', 'the', 'drug', 'companies', 'and', 'fossil', 'fuel', 'industry', '.', '”']\n",
            "[1523, 1045, 2031, 2769, 2013, 2111, 2040, 2147, 2005, 10725, 1011, 4762, 3316, 1012, 1045, 2572, 2061, 5305, 1517, 1045, 2572, 2061, 5305, 1997, 1996, 12055, 3049, 4688, 2055, 2033, 1012, 1524, 1517, 18520, 7207, 1010, 2000, 1037, 2665, 5051, 10732, 7423, 1010, 2233, 2861, 1010, 2355, 1523, 1996, 2755, 1997, 1996, 3043, 2003, 3187, 7207, 2038, 2579, 3278, 2769, 2013, 1996, 10725, 4762, 3068, 1012, 2016, 13275, 2014, 2769, 2007, 1037, 3565, 14397, 1012, 2016, 4152, 1037, 2843, 1997, 2769, 2013, 2813, 2395, 1010, 2013, 1996, 4319, 3316, 1998, 10725, 4762, 3068, 1012, 1524]\n"
          ]
        }
      ]
    },
    {
      "cell_type": "code",
      "source": [
        "# Analyze the token count across the articles after tokenizing all text\n",
        "left_token_count = sum(len(tokenizer.tokenize(str(text))) for text in left_df[\"text\"] if pd.notna(text))\n",
        "right_token_count = sum(len(tokenizer.tokenize(str(text))) for text in right_df[\"text\"] if pd.notna(text))\n",
        "center_token_count = sum(len(tokenizer.tokenize(str(text))) for text in center_df[\"text\"] if pd.notna(text))\n",
        "\n",
        "print(\"Left-leaning articles token count:\", left_token_count)\n",
        "print(\"Right-leaning articles token count:\", right_token_count)\n",
        "print(\"Center-leaning articles token count:\", center_token_count)"
      ],
      "metadata": {
        "id": "kUEJToAtZtkl",
        "colab": {
          "base_uri": "https://localhost:8080/"
        },
        "outputId": "e2b8a271-8a09-4749-94bf-13a285a07f01"
      },
      "execution_count": 37,
      "outputs": [
        {
          "output_type": "stream",
          "name": "stdout",
          "text": [
            "Left-leaning articles token count: 837527\n",
            "Right-leaning articles token count: 620797\n",
            "Center-leaning articles token count: 388367\n"
          ]
        }
      ]
    },
    {
      "cell_type": "markdown",
      "source": [
        "**Trying BERT Baseline Model**"
      ],
      "metadata": {
        "id": "yISJdkW1ELjm"
      }
    },
    {
      "cell_type": "markdown",
      "source": [
        "We will use the process described by Keras to train on a portion of our data: https://keras.io/keras_hub/api/models/bert/bert_text_classifier/"
      ],
      "metadata": {
        "id": "wdBevr1vJCiT"
      }
    },
    {
      "cell_type": "code",
      "source": [
        "import keras_hub\n",
        "import tensorflow as tf\n",
        "from tensorflow import keras\n",
        "import numpy as np\n",
        "\n",
        "# Grab our train data\n",
        "features = X_train.copy()\n",
        "features = features[:1000]\n",
        "features = list(features[\"text\"].astype(str))\n",
        "\n",
        "# Grab our train labels and map string labels to numerical labels\n",
        "label_mapping = {'left': 0, 'center': 1, 'right': 2}\n",
        "labels = np.array([label_mapping[label] for label in y_train])\n",
        "labels = labels[:1000]\n",
        "\n",
        "# Pretrained classifier.\n",
        "classifier = keras_hub.models.BertTextClassifier.from_preset(\n",
        "    \"bert_base_en_uncased\",\n",
        "    num_classes=3,\n",
        ")\n",
        "classifier.fit(x=features, y=labels, batch_size=2)\n",
        "classifier.predict(x=features, batch_size=2)\n",
        "\n",
        "# Re-compile (e.g., with a new learning rate).\n",
        "classifier.compile(\n",
        "    loss=keras.losses.SparseCategoricalCrossentropy(from_logits=True),\n",
        "    optimizer=\"adam\",\n",
        "    jit_compile=True,\n",
        ")\n",
        "# Access backbone programmatically (e.g., to change `trainable`).\n",
        "classifier.backbone.trainable = False\n",
        "# Fit again.\n",
        "classifier.fit(x=features, y=labels, batch_size=2)\n"
      ],
      "metadata": {
        "id": "uQozOsGpI-B6",
        "colab": {
          "base_uri": "https://localhost:8080/"
        },
        "outputId": "626b8adb-6215-444a-ace5-ebdb31c6408b"
      },
      "execution_count": 38,
      "outputs": [
        {
          "output_type": "stream",
          "name": "stdout",
          "text": [
            "\u001b[1m500/500\u001b[0m \u001b[32m━━━━━━━━━━━━━━━━━━━━\u001b[0m\u001b[37m\u001b[0m \u001b[1m198s\u001b[0m 235ms/step - loss: 1.0893 - sparse_categorical_accuracy: 0.4129\n",
            "\u001b[1m500/500\u001b[0m \u001b[32m━━━━━━━━━━━━━━━━━━━━\u001b[0m\u001b[37m\u001b[0m \u001b[1m40s\u001b[0m 65ms/step\n",
            "\u001b[1m500/500\u001b[0m \u001b[32m━━━━━━━━━━━━━━━━━━━━\u001b[0m\u001b[37m\u001b[0m \u001b[1m90s\u001b[0m 78ms/step - loss: 1.2157 - sparse_categorical_accuracy: 0.4100\n"
          ]
        },
        {
          "output_type": "execute_result",
          "data": {
            "text/plain": [
              "<keras.src.callbacks.history.History at 0x7f2363310910>"
            ]
          },
          "metadata": {},
          "execution_count": 38
        }
      ]
    },
    {
      "cell_type": "markdown",
      "source": [
        "BERT Baseline Model Evaluation"
      ],
      "metadata": {
        "id": "DKccB_VLSnnc"
      }
    },
    {
      "cell_type": "code",
      "source": [
        "# Prepare data for evaluation\n",
        "X_test_list = list(X_test[\"text\"].astype(str))  # Convert X_test to a list of strings\n",
        "y_test_mapped = np.array([label_mapping[label] for label in y_test])  # Map y_test labels\n",
        "\n",
        "# Create a tf.data.Dataset for evaluation\n",
        "eval_dataset = tf.data.Dataset.from_tensor_slices((X_test_list, y_test_mapped)).batch(2)\n",
        "\n",
        "# Evaluate the model\n",
        "loss, accuracy = classifier.evaluate(eval_dataset) # Use classifier instead of model\n",
        "print(f\"Loss: {loss}, Accuracy: {accuracy}\")\n",
        "\n",
        "from sklearn.metrics import classification_report\n",
        "\n",
        "# Get predictions\n",
        "preds = classifier.predict(eval_dataset) # Use classifier instead of model\n",
        "y_pred = np.argmax(preds, axis=1)  # Get predicted labels\n",
        "\n",
        "# Get true labels\n",
        "y_true = np.concatenate([y for x, y in eval_dataset], axis=0)\n",
        "\n",
        "print(classification_report(y_true, y_pred, target_names=['left', 'center', 'right']))"
      ],
      "metadata": {
        "id": "JaVG2yGIETs8",
        "colab": {
          "base_uri": "https://localhost:8080/"
        },
        "outputId": "75ca55ec-5e67-4b21-a5a0-e7de52490b5f"
      },
      "execution_count": 39,
      "outputs": [
        {
          "output_type": "stream",
          "name": "stdout",
          "text": [
            "\u001b[1m1632/1632\u001b[0m \u001b[32m━━━━━━━━━━━━━━━━━━━━\u001b[0m\u001b[37m\u001b[0m \u001b[1m115s\u001b[0m 66ms/step - loss: 1.3414 - sparse_categorical_accuracy: 0.1927\n",
            "Loss: 1.3385035991668701, Accuracy: 0.19552558660507202\n",
            "\u001b[1m1632/1632\u001b[0m \u001b[32m━━━━━━━━━━━━━━━━━━━━\u001b[0m\u001b[37m\u001b[0m \u001b[1m113s\u001b[0m 67ms/step\n",
            "              precision    recall  f1-score   support\n",
            "\n",
            "        left       0.00      0.00      0.00      1541\n",
            "      center       0.20      1.00      0.33       638\n",
            "       right       0.00      0.00      0.00      1084\n",
            "\n",
            "    accuracy                           0.20      3263\n",
            "   macro avg       0.07      0.33      0.11      3263\n",
            "weighted avg       0.04      0.20      0.06      3263\n",
            "\n"
          ]
        },
        {
          "output_type": "stream",
          "name": "stderr",
          "text": [
            "/usr/local/lib/python3.11/dist-packages/sklearn/metrics/_classification.py:1565: UndefinedMetricWarning: Precision is ill-defined and being set to 0.0 in labels with no predicted samples. Use `zero_division` parameter to control this behavior.\n",
            "  _warn_prf(average, modifier, f\"{metric.capitalize()} is\", len(result))\n",
            "/usr/local/lib/python3.11/dist-packages/sklearn/metrics/_classification.py:1565: UndefinedMetricWarning: Precision is ill-defined and being set to 0.0 in labels with no predicted samples. Use `zero_division` parameter to control this behavior.\n",
            "  _warn_prf(average, modifier, f\"{metric.capitalize()} is\", len(result))\n",
            "/usr/local/lib/python3.11/dist-packages/sklearn/metrics/_classification.py:1565: UndefinedMetricWarning: Precision is ill-defined and being set to 0.0 in labels with no predicted samples. Use `zero_division` parameter to control this behavior.\n",
            "  _warn_prf(average, modifier, f\"{metric.capitalize()} is\", len(result))\n"
          ]
        }
      ]
    },
    {
      "cell_type": "markdown",
      "source": [
        "**Trying an LSTM custom model**"
      ],
      "metadata": {
        "id": "wZIsnOK7aU3b"
      }
    },
    {
      "cell_type": "markdown",
      "source": [
        "We also wanted to experiment with trying out using an LSTM that we built on our data."
      ],
      "metadata": {
        "id": "VwSgxNnaHJGE"
      }
    },
    {
      "cell_type": "code",
      "source": [
        "from sklearn.model_selection import train_test_split\n",
        "import keras_hub\n",
        "import tensorflow as tf\n",
        "from tensorflow import keras\n",
        "import numpy as np\n",
        "from collections import Counter\n",
        "import huggingface_hub\n",
        "from transformers import AutoTokenizer, TFBertModel\n",
        "from tensorflow.keras.preprocessing.sequence import pad_sequences\n",
        "from tensorflow.keras.models import Sequential\n",
        "from tensorflow.keras.layers import Embedding, LSTM, Dense"
      ],
      "metadata": {
        "id": "dmV4a2qx9BLB"
      },
      "execution_count": 49,
      "outputs": []
    },
    {
      "cell_type": "code",
      "source": [
        "model_name = \"bert-base-uncased\"\n",
        "tokenizer = AutoTokenizer.from_pretrained(model_name)\n",
        "\n",
        "label_map = {\"left\": 0, \"right\": 1, \"center\": 2}\n",
        "X_text = (df[\"title\"].fillna(\"\") + df[\"heading\"].fillna(\"\") + df[\"text\"].fillna(\"\")).to_list() # now, we get a list of strings as X_text\n",
        "y = df[\"bias_rating\"].str.lower().map(label_map)\n",
        "\n",
        "max_length = 600\n",
        "X = [\n",
        "    tokenizer.encode(x, max_length=max_length, truncation=True, add_special_tokens= True) for x in X_text\n",
        "]\n",
        "\n",
        "X_pad = pad_sequences(X, maxlen=max_length, padding='post', truncating='post').astype(\"int32\") # padding will allow us to send batches as tensor\n",
        "y_np  = y.to_numpy(dtype=\"int32\")\n",
        "\n",
        "X_train, X_val, y_train, y_val = train_test_split(X_pad, y_np, test_size=0.2, stratify=y_np)"
      ],
      "metadata": {
        "id": "aTzk2e2Wy5pN"
      },
      "execution_count": 46,
      "outputs": []
    },
    {
      "cell_type": "code",
      "source": [
        "# creating the train and validation dataset\n",
        "BATCH = 32\n",
        "train_ds = (\n",
        "    tf.data.Dataset.from_tensor_slices((X_train, y_train))\n",
        "      .shuffle(10_000)\n",
        "      .batch(BATCH)\n",
        "      .prefetch(tf.data.AUTOTUNE)\n",
        ")\n",
        "\n",
        "val_ds = (\n",
        "    tf.data.Dataset.from_tensor_slices((X_val, y_val))\n",
        "      .batch(BATCH)\n",
        "      .prefetch(tf.data.AUTOTUNE)\n",
        ")"
      ],
      "metadata": {
        "id": "qV-FoFmP-Ifu"
      },
      "execution_count": 47,
      "outputs": []
    },
    {
      "cell_type": "code",
      "source": [
        "# building our bidirectional LSTM model (embedding -> dropout -> biD -> dropout -> biD -> Dense)\n",
        "vocab_size = tokenizer.vocab_size\n",
        "num_classes = 3\n",
        "\n",
        "model = Sequential()\n",
        "model.add(Embedding(input_dim=vocab_size, output_dim=128))\n",
        "model.add(tf.keras.layers.Dropout(0.3))\n",
        "model.add(tf.keras.layers.Bidirectional(LSTM(64, return_sequences=True)))\n",
        "model.add(tf.keras.layers.Dropout(0.3))\n",
        "model.add(tf.keras.layers.Bidirectional(LSTM(64)))\n",
        "model.add(tf.keras.layers.Dense(num_classes, activation='softmax'))\n",
        "\n",
        "model.compile(loss='sparse_categorical_crossentropy', optimizer='adam', metrics=['accuracy'])\n",
        "es = tf.keras.callbacks.EarlyStopping(patience=3, restore_best_weights=True)\n",
        "\n",
        "history = model.fit(\n",
        "    train_ds,\n",
        "    validation_data=val_ds,\n",
        "    epochs=10,\n",
        "    callbacks=[es]\n",
        ")"
      ],
      "metadata": {
        "colab": {
          "base_uri": "https://localhost:8080/"
        },
        "id": "Kj_TtbqQ_ATY",
        "outputId": "6c8c8a61-3d5a-47fb-f7c0-7500c0c7a38b"
      },
      "execution_count": 50,
      "outputs": [
        {
          "output_type": "stream",
          "name": "stdout",
          "text": [
            "Epoch 1/10\n"
          ]
        },
        {
          "output_type": "stream",
          "name": "stderr",
          "text": [
            "/usr/local/lib/python3.11/dist-packages/keras/src/layers/core/embedding.py:90: UserWarning: Argument `input_length` is deprecated. Just remove it.\n",
            "  warnings.warn(\n",
            "Exception ignored in: <function _xla_gc_callback at 0x7f2456ffad40>\n",
            "Traceback (most recent call last):\n",
            "  File \"/usr/local/lib/python3.11/dist-packages/jax/_src/lib/__init__.py\", line 96, in _xla_gc_callback\n",
            "    def _xla_gc_callback(*args):\n",
            "    \n",
            "KeyboardInterrupt: \n"
          ]
        },
        {
          "output_type": "stream",
          "name": "stdout",
          "text": [
            "\u001b[1m544/544\u001b[0m \u001b[32m━━━━━━━━━━━━━━━━━━━━\u001b[0m\u001b[37m\u001b[0m \u001b[1m98s\u001b[0m 84ms/step - accuracy: 0.4718 - loss: 1.0396 - val_accuracy: 0.4810 - val_loss: 1.0203\n",
            "Epoch 2/10\n",
            "\u001b[1m544/544\u001b[0m \u001b[32m━━━━━━━━━━━━━━━━━━━━\u001b[0m\u001b[37m\u001b[0m \u001b[1m44s\u001b[0m 82ms/step - accuracy: 0.5143 - loss: 0.9742 - val_accuracy: 0.4620 - val_loss: 1.0296\n",
            "Epoch 3/10\n",
            "\u001b[1m544/544\u001b[0m \u001b[32m━━━━━━━━━━━━━━━━━━━━\u001b[0m\u001b[37m\u001b[0m \u001b[1m44s\u001b[0m 81ms/step - accuracy: 0.5908 - loss: 0.8611 - val_accuracy: 0.4599 - val_loss: 1.0785\n",
            "Epoch 4/10\n",
            "\u001b[1m544/544\u001b[0m \u001b[32m━━━━━━━━━━━━━━━━━━━━\u001b[0m\u001b[37m\u001b[0m \u001b[1m44s\u001b[0m 81ms/step - accuracy: 0.6876 - loss: 0.7057 - val_accuracy: 0.4240 - val_loss: 1.2675\n"
          ]
        }
      ]
    },
    {
      "cell_type": "markdown",
      "source": [
        "Above are our results from our initial test using an LSTM. The results seem to show that the model is indeed training, however the validation accuracy is not changing, which shows something is off. The model needs to be trained for many more epochs to achieve better accuracy."
      ],
      "metadata": {
        "id": "nZYT2iVcFQW-"
      }
    },
    {
      "cell_type": "markdown",
      "source": [
        "**Evaluate on Testing Set**"
      ],
      "metadata": {
        "id": "Iba5lGbyGV98"
      }
    },
    {
      "cell_type": "code",
      "source": [
        "# Get predictions\n",
        "pred_probs = model.predict(X_val, batch_size=32)\n",
        "\n",
        "y_pred = np.argmax(pred_probs, axis=1)\n",
        "y_true = y_val\n",
        "\n",
        "print(classification_report(y_true, y_pred,\n",
        "                            target_names=['left', 'center', 'right']))"
      ],
      "metadata": {
        "id": "0rhRf3B3fpPv",
        "colab": {
          "base_uri": "https://localhost:8080/"
        },
        "outputId": "ddd2a110-7260-47f6-b697-267c59552609"
      },
      "execution_count": 52,
      "outputs": [
        {
          "output_type": "stream",
          "name": "stdout",
          "text": [
            "\u001b[1m136/136\u001b[0m \u001b[32m━━━━━━━━━━━━━━━━━━━━\u001b[0m\u001b[37m\u001b[0m \u001b[1m6s\u001b[0m 35ms/step\n",
            "              precision    recall  f1-score   support\n",
            "\n",
            "        left       0.51      0.87      0.64      2055\n",
            "      center       0.36      0.21      0.27      1445\n",
            "       right       0.00      0.00      0.00       851\n",
            "\n",
            "    accuracy                           0.48      4351\n",
            "   macro avg       0.29      0.36      0.30      4351\n",
            "weighted avg       0.36      0.48      0.39      4351\n",
            "\n"
          ]
        },
        {
          "output_type": "stream",
          "name": "stderr",
          "text": [
            "/usr/local/lib/python3.11/dist-packages/sklearn/metrics/_classification.py:1565: UndefinedMetricWarning: Precision is ill-defined and being set to 0.0 in labels with no predicted samples. Use `zero_division` parameter to control this behavior.\n",
            "  _warn_prf(average, modifier, f\"{metric.capitalize()} is\", len(result))\n",
            "/usr/local/lib/python3.11/dist-packages/sklearn/metrics/_classification.py:1565: UndefinedMetricWarning: Precision is ill-defined and being set to 0.0 in labels with no predicted samples. Use `zero_division` parameter to control this behavior.\n",
            "  _warn_prf(average, modifier, f\"{metric.capitalize()} is\", len(result))\n",
            "/usr/local/lib/python3.11/dist-packages/sklearn/metrics/_classification.py:1565: UndefinedMetricWarning: Precision is ill-defined and being set to 0.0 in labels with no predicted samples. Use `zero_division` parameter to control this behavior.\n",
            "  _warn_prf(average, modifier, f\"{metric.capitalize()} is\", len(result))\n"
          ]
        }
      ]
    },
    {
      "cell_type": "markdown",
      "source": [
        "**Create requirements.txt**"
      ],
      "metadata": {
        "id": "SghsByraHV1c"
      }
    },
    {
      "cell_type": "code",
      "source": [
        "!pip freeze > requirements.txt"
      ],
      "metadata": {
        "id": "fwpbnfHRHyjs"
      },
      "execution_count": 53,
      "outputs": []
    },
    {
      "cell_type": "code",
      "source": [],
      "metadata": {
        "id": "UX7JctlQElGs"
      },
      "execution_count": null,
      "outputs": []
    }
  ]
}